{
 "cells": [
  {
   "cell_type": "markdown",
   "metadata": {},
   "source": [
    "# Overview of the Common Library"
   ]
  },
  {
   "cell_type": "markdown",
   "metadata": {},
   "source": [
    "### Motivation/Objective of the common Library\n",
    "The motivation behind building this library is to have a common library to be able to build, train models that can be deployed in prod as well as experiment during development as well.\n",
    "\n",
    "The core library helps developers to be able to do the following.\n",
    " - Full Training models.\n",
    " - Incremental model over an existing model.\n",
    " - Backtest with parallel full training across full model frequency.\n",
    " - Backtest with parallel full training across full model frequency and incremental training in between.\n",
    " \n",
    " \n",
    " "
   ]
  },
  {
   "cell_type": "markdown",
   "metadata": {},
   "source": [
    "### Different Infra and server support for the Common Library"
   ]
  },
  {
   "cell_type": "markdown",
   "metadata": {},
   "source": [
    "#### Setting up the Postgres server \n",
    "    cat docker-compose.yml\n",
    "\n",
    "Contents of the YML File\n",
    "\n",
    "    version: \"3\"\n",
    "\n",
    "    services:\n",
    "      db:\n",
    "          image: \"postgres:11\"\n",
    "          container_name: \"my_postgres\"\n",
    "          ports:\n",
    "          - \"8085:5432\"\n",
    "          volumes:\n",
    "          - my_dbdata:/var/lib/postgresql/data\n",
    "          command:\n",
    "          - postgres\n",
    "          - '-c'\n",
    "          - max_connections=1000\n",
    "          - '-c'\n",
    "          - shared_buffers=100MB\n",
    "      volumes:\n",
    "       my_dbdata:\n",
    "   \n",
    "#### Restarting the Postgres Server\n",
    "    cd to /opt/docker\n",
    "\n",
    "    sudo docker-compose stop\n",
    "\n",
    "    sudo docker-compose start\n"
   ]
  },
  {
   "cell_type": "markdown",
   "metadata": {},
   "source": [
    "#### MLFLOW Artifact Store\n",
    "    Path to be provided where the mlflow models are logged, stored and can be read from for evaluation (preferably in s3)"
   ]
  },
  {
   "cell_type": "markdown",
   "metadata": {},
   "source": [
    "#### Setting up ML FLow UI"
   ]
  },
  {
   "cell_type": "markdown",
   "metadata": {},
   "source": [
    "The following code has to be run for starting an mlflow ui\n",
    "\n",
    "    mlflow ui --backend-store-uri postgresql://mlflow:mlflow@{postgres_server}:{postgres_server_port}/mlflow --default-artifact-root {artifact_store_path} --port {port_number_to_open_mlflow ui} --host 0.0.0.0"
   ]
  }
 ],
 "metadata": {
  "kernelspec": {
   "display_name": "Python 3",
   "language": "python",
   "name": "python3"
  },
  "language_info": {
   "codemirror_mode": {
    "name": "ipython",
    "version": 3
   },
   "file_extension": ".py",
   "mimetype": "text/x-python",
   "name": "python",
   "nbconvert_exporter": "python",
   "pygments_lexer": "ipython3",
   "version": "3.6.10"
  }
 },
 "nbformat": 4,
 "nbformat_minor": 4
}
