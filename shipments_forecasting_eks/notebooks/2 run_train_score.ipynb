{
 "cells": [
  {
   "cell_type": "markdown",
   "metadata": {
    "toc": true
   },
   "source": [
    "<h1>Table of Contents<span class=\"tocSkip\"></span></h1>\n",
    "<div class=\"toc\"><ul class=\"toc-item\"><li><span><a href=\"#1.-Imports\" data-toc-modified-id=\"1.-Imports-1\"><span class=\"toc-item-num\">1&nbsp;&nbsp;</span>1. Imports</a></span></li><li><span><a href=\"#2.-Set-config\" data-toc-modified-id=\"2.-Set-config-2\"><span class=\"toc-item-num\">2&nbsp;&nbsp;</span>2. Set config</a></span></li><li><span><a href=\"#3.-Executing-in-airflow\" data-toc-modified-id=\"3.-Executing-in-airflow-3\"><span class=\"toc-item-num\">3&nbsp;&nbsp;</span>3. Executing in airflow</a></span><ul class=\"toc-item\"><li><span><a href=\"#3.1.-Deepstate\" data-toc-modified-id=\"3.1.-Deepstate-3.1\"><span class=\"toc-item-num\">3.1&nbsp;&nbsp;</span>3.1. Deepstate</a></span></li><li><span><a href=\"#3.2.-DeepAR\" data-toc-modified-id=\"3.2.-DeepAR-3.2\"><span class=\"toc-item-num\">3.2&nbsp;&nbsp;</span>3.2. DeepAR</a></span></li><li><span><a href=\"#3.3.-Prophet\" data-toc-modified-id=\"3.3.-Prophet-3.3\"><span class=\"toc-item-num\">3.3&nbsp;&nbsp;</span>3.3. Prophet</a></span></li></ul></li><li><span><a href=\"#DEV:-Save-individual-tasks\" data-toc-modified-id=\"DEV:-Save-individual-tasks-4\"><span class=\"toc-item-num\">4&nbsp;&nbsp;</span>DEV: Save individual tasks</a></span></li></ul></div>"
   ]
  },
  {
   "cell_type": "markdown",
   "metadata": {},
   "source": [
    "### 1. Imports"
   ]
  },
  {
   "cell_type": "code",
   "execution_count": 1,
   "metadata": {},
   "outputs": [
    {
     "name": "stderr",
     "output_type": "stream",
     "text": [
      "Importing plotly failed. Interactive plots will not work.\n"
     ]
    }
   ],
   "source": [
    "import json\n",
    "import os\n",
    "\n",
    "from ts_forecast.core.utils.job import (\n",
    "    run_backtest_job_local,\n",
    "    run_backtest_job_airflow, \n",
    "    trigger_rest_job_request,\n",
    ")\n",
    "from ts_forecast.scripts.cli import load_yaml\n",
    "from ts_forecast.core.dependencies.containers import Core, Gateways\n",
    "from ts_forecast.core.utils.airflow import trigger_dag_via_rest"
   ]
  },
  {
   "cell_type": "markdown",
   "metadata": {},
   "source": [
    "### 2. Set config"
   ]
  },
  {
   "cell_type": "code",
   "execution_count": 2,
   "metadata": {},
   "outputs": [],
   "source": [
    "cred = load_yaml(\"./../configs/dev.yml\")"
   ]
  },
  {
   "cell_type": "code",
   "execution_count": 3,
   "metadata": {},
   "outputs": [
    {
     "data": {
      "text/plain": [
       "<Logger ts_forecast.core.dependencies.containers (DEBUG)>"
      ]
     },
     "execution_count": 3,
     "metadata": {},
     "output_type": "execute_result"
    }
   ],
   "source": [
    "Core.config.override(cred)\n",
    "Core.logger()"
   ]
  },
  {
   "cell_type": "markdown",
   "metadata": {},
   "source": [
    "### 3. Executing in airflow"
   ]
  },
  {
   "cell_type": "code",
   "execution_count": 4,
   "metadata": {},
   "outputs": [],
   "source": [
    "project_path = \"/home/leninkumar.vijay/workspace/tiger/ship/aws-auth/Shipments_Forecasting\"\n",
    "creds_config_path = os.path.join(project_path, \"configs\", \"dev.yml\")\n",
    "template_path = os.path.join(project_path, \"deploy/airflow/dags_template\", \"airflow_template.py\")\n",
    "ecr_image_uri = \"171774164293.dkr.ecr.us-east-1.amazonaws.com/ts-app:TS17\""
   ]
  },
  {
   "cell_type": "markdown",
   "metadata": {},
   "source": [
    "#### 3.1. Deepstate"
   ]
  },
  {
   "cell_type": "code",
   "execution_count": null,
   "metadata": {},
   "outputs": [],
   "source": [
    "# To load local yml\n",
    "job_config_path = os.path.join(project_path, \"configs\", \"fulltrain_deepstate.yml\")\n",
    "\n",
    "# To load yml from s3\n",
    "# exp_name = json.loads(s3fs.S3FileSystem().open('s3://tiger-mle-tg/inputs/auto-gluonts-data/experiments.json').read())['experiment_name']\n",
    "# job_config_path = f's3://tiger-mle-tg/inputs/auto-gluonts-data/{exp_name}/configs/fulltrain_deepstate.yml'\n",
    "\n",
    "airflow_params = dict(\n",
    "    dag_id = 'perf_01_deepstate',\n",
    "    run_id = 'run_1',\n",
    "    creds_config_path = creds_config_path,\n",
    "    job_config_path = job_config_path,\n",
    "    template_path = template_path,\n",
    "    ecr_image_uri = ecr_image_uri\n",
    ")"
   ]
  },
  {
   "cell_type": "code",
   "execution_count": null,
   "metadata": {},
   "outputs": [],
   "source": [
    "run_backtest_job_airflow(\n",
    "    airflow_params=airflow_params\n",
    ")"
   ]
  },
  {
   "cell_type": "markdown",
   "metadata": {},
   "source": [
    "#### 3.2. DeepAR"
   ]
  },
  {
   "cell_type": "code",
   "execution_count": null,
   "metadata": {},
   "outputs": [],
   "source": [
    "# To load local yml\n",
    "job_config_path = os.path.join(project_path, \"configs\", \"fulltrain_deepar.yml\")\n",
    "\n",
    "# To load yml from s3\n",
    "# exp_name = json.loads(s3fs.S3FileSystem().open('s3://tiger-mle-tg/inputs/auto-gluonts-data/experiments.json').read())['experiment_name']\n",
    "# job_config_path = f's3://tiger-mle-tg/inputs/auto-gluonts-data/{exp_name}/configs/fulltrain_deepar.yml'\n",
    "\n",
    "airflow_params = dict(\n",
    "    dag_id = 'perf_01_deepar',\n",
    "    run_id = 'run_1',\n",
    "    creds_config_path = creds_config_path,\n",
    "    job_config_path = job_config_path,\n",
    "    template_path = template_path,\n",
    "    ecr_image_uri = ecr_image_uri\n",
    ")"
   ]
  },
  {
   "cell_type": "code",
   "execution_count": null,
   "metadata": {},
   "outputs": [],
   "source": [
    "run_backtest_job_airflow(\n",
    "    airflow_params=airflow_params\n",
    ")"
   ]
  },
  {
   "cell_type": "markdown",
   "metadata": {},
   "source": [
    "#### 3.3. Prophet"
   ]
  },
  {
   "cell_type": "code",
   "execution_count": 5,
   "metadata": {},
   "outputs": [],
   "source": [
    "# to load local yml\n",
    "job_config_path = os.path.join(project_path, \"configs\", \"fulltrain_prophet.yml\")\n",
    "\n",
    "# To load yml from s3\n",
    "# exp_name = json.loads(s3fs.S3FileSystem().open('s3://tiger-mle-tg/inputs/auto-gluonts-data/experiments.json').read())['experiment_name']\n",
    "# job_config_path = f's3://tiger-mle-tg/inputs/auto-gluonts-data/{exp_name}/configs/fulltrain_prophet.yml'\n",
    "\n",
    "airflow_params = dict(\n",
    "    dag_id = 'perf_01_prophet',\n",
    "    run_id = 'run_1',\n",
    "    creds_config_path = creds_config_path,\n",
    "    job_config_path = job_config_path,\n",
    "    template_path = template_path,\n",
    "    ecr_image_uri = ecr_image_uri\n",
    ")"
   ]
  },
  {
   "cell_type": "code",
   "execution_count": 6,
   "metadata": {},
   "outputs": [
    {
     "name": "stderr",
     "output_type": "stream",
     "text": [
      "2020-07-22 01:15:26 — ts_forecast.core.utils.airflow — INFO — frame_dag_with_jinja:179 — Reading template: template, from /home/leninkumar.vijay/workspace/tiger/ship/aws-auth/Shipments_Forecasting/deploy/airflow/dags_template/airflow_template.py\n",
      "2020-07-22 01:15:26 — ts_forecast.core.utils.airflow — INFO — get_uid_for_template:59 — ***********************************\n",
      "2020-07-22 01:15:26 — ts_forecast.core.utils.airflow — INFO — get_uid_for_template:60 — Please notedown dag_id : perf_01_prophet_leninkumar_vijay_hash_53064364\n",
      "2020-07-22 01:15:26 — ts_forecast.core.utils.airflow — INFO — get_uid_for_template:61 — ***********************************\n",
      "2020-07-22 01:15:26 — ts_forecast.core.utils.airflow — INFO — frame_dag_with_jinja:203 — Dag file placed in : s3://tiger-mle-tg/airflow/dags/perf_01_prophet_leninkumar_vijay_hash_53064364\n",
      "2020-07-22 01:15:26 — ts_forecast.core.utils.airflow — INFO — frame_dag_with_jinja:205 — Successfully created dag:perf_01_prophet_leninkumar_vijay_hash_53064364, with template:airflow_template.py\n",
      "2020-07-22 01:15:26 — ts_forecast.core.utils.airflow — INFO — overwrite_and_trigger_dag:237 — Waiting for dag, perf_01_prophet_leninkumar_vijay_hash_53064364 to be read by the scheduler. Please wait !\n"
     ]
    },
    {
     "ename": "KeyboardInterrupt",
     "evalue": "",
     "output_type": "error",
     "traceback": [
      "\u001b[0;31m---------------------------------------------------------------------------\u001b[0m",
      "\u001b[0;31mKeyboardInterrupt\u001b[0m                         Traceback (most recent call last)",
      "\u001b[0;32m<ipython-input-6-645cb98b8c2f>\u001b[0m in \u001b[0;36m<module>\u001b[0;34m\u001b[0m\n\u001b[1;32m      1\u001b[0m run_backtest_job_airflow(\n\u001b[0;32m----> 2\u001b[0;31m     \u001b[0mairflow_params\u001b[0m\u001b[0;34m=\u001b[0m\u001b[0mairflow_params\u001b[0m\u001b[0;34m\u001b[0m\u001b[0;34m\u001b[0m\u001b[0m\n\u001b[0m\u001b[1;32m      3\u001b[0m )\n",
      "\u001b[0;32m~/workspace/tiger/ship/aws-auth/Shipments_Forecasting/ts_forecast/core/utils/job.py\u001b[0m in \u001b[0;36mrun_backtest_job_airflow\u001b[0;34m(airflow_params)\u001b[0m\n\u001b[1;32m     57\u001b[0m \u001b[0;34m\u001b[0m\u001b[0m\n\u001b[1;32m     58\u001b[0m \u001b[0;32mdef\u001b[0m \u001b[0mrun_backtest_job_airflow\u001b[0m\u001b[0;34m(\u001b[0m\u001b[0mairflow_params\u001b[0m\u001b[0;34m)\u001b[0m\u001b[0;34m:\u001b[0m\u001b[0;34m\u001b[0m\u001b[0;34m\u001b[0m\u001b[0m\n\u001b[0;32m---> 59\u001b[0;31m     \u001b[0mexecute_jobs_airflow\u001b[0m\u001b[0;34m(\u001b[0m\u001b[0;34m**\u001b[0m\u001b[0mairflow_params\u001b[0m\u001b[0;34m)\u001b[0m\u001b[0;34m\u001b[0m\u001b[0;34m\u001b[0m\u001b[0m\n\u001b[0m\u001b[1;32m     60\u001b[0m \u001b[0;34m\u001b[0m\u001b[0m\n\u001b[1;32m     61\u001b[0m \u001b[0;34m\u001b[0m\u001b[0m\n",
      "\u001b[0;32m~/workspace/tiger/ship/aws-auth/Shipments_Forecasting/ts_forecast/core/utils/airflow.py\u001b[0m in \u001b[0;36mexecute_jobs_airflow\u001b[0;34m(dag_id, run_id, creds_config_path, job_config_path, template_path, ecr_image_uri)\u001b[0m\n\u001b[1;32m    300\u001b[0m         \u001b[0mjob_config_path\u001b[0m\u001b[0;34m=\u001b[0m\u001b[0mjob_config_path\u001b[0m\u001b[0;34m,\u001b[0m\u001b[0;34m\u001b[0m\u001b[0;34m\u001b[0m\u001b[0m\n\u001b[1;32m    301\u001b[0m         \u001b[0mtemplate_path\u001b[0m\u001b[0;34m=\u001b[0m\u001b[0mtemplate_path\u001b[0m\u001b[0;34m,\u001b[0m\u001b[0;34m\u001b[0m\u001b[0;34m\u001b[0m\u001b[0m\n\u001b[0;32m--> 302\u001b[0;31m         \u001b[0mecr_image_uri\u001b[0m\u001b[0;34m=\u001b[0m\u001b[0mecr_image_uri\u001b[0m\u001b[0;34m,\u001b[0m\u001b[0;34m\u001b[0m\u001b[0;34m\u001b[0m\u001b[0m\n\u001b[0m\u001b[1;32m    303\u001b[0m     )\n\u001b[1;32m    304\u001b[0m \u001b[0;34m\u001b[0m\u001b[0m\n",
      "\u001b[0;32m~/workspace/tiger/ship/aws-auth/Shipments_Forecasting/ts_forecast/core/utils/airflow.py\u001b[0m in \u001b[0;36moverwrite_and_trigger_dag\u001b[0;34m(dag_id, ecr_image_uri, run_id, conf, execution_date, watch, poll_seconds, airflow_client, overwrite_if_exists, creds_config_path, job_config_path, template_path)\u001b[0m\n\u001b[1;32m    236\u001b[0m         )\n\u001b[1;32m    237\u001b[0m         \u001b[0m_LOGGER\u001b[0m\u001b[0;34m.\u001b[0m\u001b[0minfo\u001b[0m\u001b[0;34m(\u001b[0m\u001b[0mwait_str\u001b[0m\u001b[0;34m)\u001b[0m\u001b[0;34m\u001b[0m\u001b[0;34m\u001b[0m\u001b[0m\n\u001b[0;32m--> 238\u001b[0;31m         \u001b[0mtime\u001b[0m\u001b[0;34m.\u001b[0m\u001b[0msleep\u001b[0m\u001b[0;34m(\u001b[0m\u001b[0;36m40\u001b[0m\u001b[0;34m)\u001b[0m\u001b[0;34m\u001b[0m\u001b[0;34m\u001b[0m\u001b[0m\n\u001b[0m\u001b[1;32m    239\u001b[0m         \u001b[0;32mwhile\u001b[0m \u001b[0;32mTrue\u001b[0m\u001b[0;34m:\u001b[0m\u001b[0;34m\u001b[0m\u001b[0;34m\u001b[0m\u001b[0m\n\u001b[1;32m    240\u001b[0m             \u001b[0mrequest\u001b[0m \u001b[0;34m=\u001b[0m \u001b[0munpause_dag_via_rest\u001b[0m\u001b[0;34m(\u001b[0m\u001b[0mdag_id\u001b[0m\u001b[0;34m=\u001b[0m\u001b[0mdag_id\u001b[0m\u001b[0;34m)\u001b[0m\u001b[0;34m\u001b[0m\u001b[0;34m\u001b[0m\u001b[0m\n",
      "\u001b[0;31mKeyboardInterrupt\u001b[0m: "
     ]
    }
   ],
   "source": [
    "run_backtest_job_airflow(\n",
    "    airflow_params=airflow_params\n",
    ")"
   ]
  },
  {
   "cell_type": "markdown",
   "metadata": {},
   "source": [
    "### DEV: Save individual tasks"
   ]
  },
  {
   "cell_type": "code",
   "execution_count": null,
   "metadata": {},
   "outputs": [],
   "source": [
    "from ts_forecast.core.utils.job import save_train_score_creds_tasks\n",
    "\n",
    "cred = load_yaml(\"./../configs/dev.yml\")\n",
    "cfg = load_yaml(\"./../configs/fulltrain_test.yml\")\n",
    "\n",
    "save_train_score_creds_tasks(creds_cfg=cred, job_spec_cfg=cfg)"
   ]
  },
  {
   "cell_type": "code",
   "execution_count": null,
   "metadata": {},
   "outputs": [],
   "source": []
  }
 ],
 "metadata": {
  "hide_input": false,
  "kernelspec": {
   "display_name": "Python 3",
   "language": "python",
   "name": "python3"
  },
  "language_info": {
   "codemirror_mode": {
    "name": "ipython",
    "version": 3
   },
   "file_extension": ".py",
   "mimetype": "text/x-python",
   "name": "python",
   "nbconvert_exporter": "python",
   "pygments_lexer": "ipython3",
   "version": "3.6.10"
  },
  "toc": {
   "base_numbering": 1,
   "nav_menu": {},
   "number_sections": true,
   "sideBar": true,
   "skip_h1_title": false,
   "title_cell": "Table of Contents",
   "title_sidebar": "Contents",
   "toc_cell": true,
   "toc_position": {},
   "toc_section_display": true,
   "toc_window_display": false
  },
  "varInspector": {
   "cols": {
    "lenName": 16,
    "lenType": 16,
    "lenVar": 40
   },
   "kernels_config": {
    "python": {
     "delete_cmd_postfix": "",
     "delete_cmd_prefix": "del ",
     "library": "var_list.py",
     "varRefreshCmd": "print(var_dic_list())"
    },
    "r": {
     "delete_cmd_postfix": ") ",
     "delete_cmd_prefix": "rm(",
     "library": "var_list.r",
     "varRefreshCmd": "cat(var_dic_list()) "
    }
   },
   "types_to_exclude": [
    "module",
    "function",
    "builtin_function_or_method",
    "instance",
    "_Feature"
   ],
   "window_display": false
  }
 },
 "nbformat": 4,
 "nbformat_minor": 4
}
