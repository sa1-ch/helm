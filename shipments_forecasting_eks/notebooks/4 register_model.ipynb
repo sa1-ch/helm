{
 "cells": [
  {
   "cell_type": "markdown",
   "metadata": {},
   "source": [
    "### Register model in `mlflow Model_Registry`"
   ]
  },
  {
   "cell_type": "code",
   "execution_count": 1,
   "metadata": {},
   "outputs": [],
   "source": [
    "from ts_forecast.core.containers import Core\n",
    "from ts_forecast.scripts.cli import load_yaml\n",
    "from ts_forecast.core.utils.mlflow import register_model\n",
    "from mlflow.tracking import MlflowClient\n",
    "import mlflow"
   ]
  },
  {
   "cell_type": "code",
   "execution_count": 2,
   "metadata": {},
   "outputs": [
    {
     "data": {
      "text/plain": [
       "<Logger ts_forecast.core.containers (DEBUG)>"
      ]
     },
     "execution_count": 2,
     "metadata": {},
     "output_type": "execute_result"
    }
   ],
   "source": [
    "cred = load_yaml(\"./../configs/dev.yml\")\n",
    "Core.config.override(cred)\n",
    "Core.logger()"
   ]
  },
  {
   "cell_type": "code",
   "execution_count": 3,
   "metadata": {},
   "outputs": [
    {
     "name": "stderr",
     "output_type": "stream",
     "text": [
      "2020-06-12 05:31:07 — ts_forecast.core.utils.mlflow — INFO — register_model:205 — Model-Name: demo_2wk_fulltrain_inc--num_transactions, already registered. Creating a new version for the Model-Name.\n",
      "2020-06-12 05:31:07 — ts_forecast.core.utils.mlflow — DEBUG — register_model:213 — <ModelVersion: creation_timestamp=1591939867553, current_stage='None', description='', last_updated_timestamp=1591939867553, name='demo_2wk_fulltrain_inc--num_transactions', run_id='88860ba3ceb746d29886608288e1d492', source='s3://tiger-mle-ts-forecast/mlflow-artifacts/88860ba3ceb746d29886608288e1d492/artifacts/model', status='READY', status_message='', user_id='', version='13'>\n",
      "2020-06-12 05:31:07 — ts_forecast.core.utils.mlflow — INFO — register_model:214 — Registered_Model: demo_2wk_fulltrain_inc--num_transactions, with Version: 13\n"
     ]
    }
   ],
   "source": [
    "result = register_model(\n",
    "    run_id=\"88860ba3ceb746d29886608288e1d492\", \n",
    "    registered_model_name=\"demo_2wk_fulltrain_inc--num_transactions\"\n",
    ")"
   ]
  },
  {
   "cell_type": "code",
   "execution_count": 4,
   "metadata": {},
   "outputs": [
    {
     "name": "stdout",
     "output_type": "stream",
     "text": [
      "Registered_Model: demo_2wk_fulltrain_inc--num_transactions, with Version: 13\n"
     ]
    }
   ],
   "source": [
    "print(f\"Registered_Model: {result.name}, with Version: {result.version}\")"
   ]
  },
  {
   "cell_type": "code",
   "execution_count": null,
   "metadata": {},
   "outputs": [],
   "source": []
  }
 ],
 "metadata": {
  "kernelspec": {
   "display_name": "Python 3",
   "language": "python",
   "name": "python3"
  },
  "language_info": {
   "codemirror_mode": {
    "name": "ipython",
    "version": 3
   },
   "file_extension": ".py",
   "mimetype": "text/x-python",
   "name": "python",
   "nbconvert_exporter": "python",
   "pygments_lexer": "ipython3",
   "version": "3.6.10"
  }
 },
 "nbformat": 4,
 "nbformat_minor": 4
}
