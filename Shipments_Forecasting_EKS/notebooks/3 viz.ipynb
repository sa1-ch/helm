{
 "cells": [
  {
   "cell_type": "markdown",
   "metadata": {},
   "source": [
    "#### Set AWS-Access_Config incase if this notebook is not run in eks-jupyter environment"
   ]
  },
  {
   "cell_type": "code",
   "execution_count": 1,
   "metadata": {},
   "outputs": [],
   "source": [
    "import os\n",
    "os.environ['KMP_DUPLICATE_LIB_OK'] = 'TRUE'"
   ]
  },
  {
   "cell_type": "markdown",
   "metadata": {},
   "source": [
    "### 1. Import Libraries"
   ]
  },
  {
   "cell_type": "code",
   "execution_count": 2,
   "metadata": {},
   "outputs": [],
   "source": [
    "import pandas as pd\n",
    "import copy"
   ]
  },
  {
   "cell_type": "code",
   "execution_count": 3,
   "metadata": {},
   "outputs": [],
   "source": [
    "from ts_forecast.core.utils.viz import (\n",
    "    get_csv_from_s3, get_metrics_for_given_exp, get_metric_analysis_df, get_merged_df_from_list,\n",
    "    get_final_run_level_merged_df, print_final_df_with_grad, compare_across_runs, get_final_item_level_merged_df,\n",
    "    compare_across_ts_pie, compare_across_ts_bar, get_final_date_item_merged_df, \n",
    "    get_final_date_item_merged_melted_df, compare_actual_forecast_time_period, filter_print_ts_for_items,\n",
    "    get_error_ts_df, get_run_details_with_exp_name, prepare_run_metrics_dict\n",
    ")\n",
    "from ts_forecast.core.containers import Core\n",
    "from ts_forecast.scripts.cli import load_yaml"
   ]
  },
  {
   "cell_type": "markdown",
   "metadata": {},
   "source": [
    "### 2. Set config"
   ]
  },
  {
   "cell_type": "code",
   "execution_count": 4,
   "metadata": {},
   "outputs": [],
   "source": [
    "cred = load_yaml(\"./../configs/dev.yml\")"
   ]
  },
  {
   "cell_type": "code",
   "execution_count": 5,
   "metadata": {},
   "outputs": [
    {
     "data": {
      "text/plain": [
       "<Logger ts_forecast.core.containers (DEBUG)>"
      ]
     },
     "execution_count": 5,
     "metadata": {},
     "output_type": "execute_result"
    }
   ],
   "source": [
    "Core.config.override(cred)\n",
    "Core.logger()"
   ]
  },
  {
   "cell_type": "markdown",
   "metadata": {},
   "source": [
    "#### Merge Runs"
   ]
  },
  {
   "cell_type": "code",
   "execution_count": 6,
   "metadata": {},
   "outputs": [],
   "source": [
    "# Experiment-Name : [Dag_Id_1, Dag_Id_2]\n",
    "exp_dag_list = {\n",
    "    \"test_deepAR\" : [\"dag_id_1\", \"dag_id_1\"],\n",
    "    \"test_deepAR\" : [\"dag_id_1\", \"dag_id_1\"],\n",
    "}"
   ]
  },
  {
   "cell_type": "markdown",
   "metadata": {},
   "source": [
    "### 3. Set Run-Params"
   ]
  },
  {
   "cell_type": "markdown",
   "metadata": {},
   "source": [
    "#### 3.1. Print all runs of for the experiments"
   ]
  },
  {
   "cell_type": "code",
   "execution_count": 7,
   "metadata": {},
   "outputs": [
    {
     "data": {
      "text/html": [
       "<div>\n",
       "<style scoped>\n",
       "    .dataframe tbody tr th:only-of-type {\n",
       "        vertical-align: middle;\n",
       "    }\n",
       "\n",
       "    .dataframe tbody tr th {\n",
       "        vertical-align: top;\n",
       "    }\n",
       "\n",
       "    .dataframe thead th {\n",
       "        text-align: right;\n",
       "    }\n",
       "</style>\n",
       "<table border=\"1\" class=\"dataframe\">\n",
       "  <thead>\n",
       "    <tr style=\"text-align: right;\">\n",
       "      <th></th>\n",
       "      <th>exp_name</th>\n",
       "      <th>run_name</th>\n",
       "      <th>dag_id</th>\n",
       "      <th>last_train_date</th>\n",
       "      <th>model_date</th>\n",
       "      <th>prediction_length</th>\n",
       "      <th>avg_mad</th>\n",
       "      <th>avg_mean_dev</th>\n",
       "      <th>avg_wmape</th>\n",
       "      <th>model_uri</th>\n",
       "      <th>score_artifact_uri</th>\n",
       "      <th>metrics_uri</th>\n",
       "      <th>error_ts_uri</th>\n",
       "      <th>forecast_end_date</th>\n",
       "    </tr>\n",
       "  </thead>\n",
       "  <tbody>\n",
       "    <tr>\n",
       "      <th>0</th>\n",
       "      <td>test_deepAR</td>\n",
       "      <td>test_deepAR--num_transactions</td>\n",
       "      <td>dag_id_1</td>\n",
       "      <td>1752-06-23 00:00:00</td>\n",
       "      <td>1752-06-24</td>\n",
       "      <td>14</td>\n",
       "      <td>3270.549143</td>\n",
       "      <td>3271.496446</td>\n",
       "      <td>1.165686</td>\n",
       "      <td>s3://tiger-mle-shipping-forecasting/mlflow/mlf...</td>\n",
       "      <td>s3://tiger-mle-shipping-forecasting/outputs/fo...</td>\n",
       "      <td>s3://tiger-mle-shipping-forecasting/mlflow/mlf...</td>\n",
       "      <td>s3://tiger-mle-shipping-forecasting/mlflow/mlf...</td>\n",
       "      <td>1752-07-08</td>\n",
       "    </tr>\n",
       "    <tr>\n",
       "      <th>0</th>\n",
       "      <td>test_deepAR</td>\n",
       "      <td>test_deepAR--num_transactions</td>\n",
       "      <td>dag_id_1</td>\n",
       "      <td>1752-06-23 00:00:00</td>\n",
       "      <td>1752-06-24</td>\n",
       "      <td>14</td>\n",
       "      <td>3270.549143</td>\n",
       "      <td>3271.496446</td>\n",
       "      <td>1.165686</td>\n",
       "      <td>s3://tiger-mle-shipping-forecasting/mlflow/mlf...</td>\n",
       "      <td>s3://tiger-mle-shipping-forecasting/outputs/fo...</td>\n",
       "      <td>s3://tiger-mle-shipping-forecasting/mlflow/mlf...</td>\n",
       "      <td>s3://tiger-mle-shipping-forecasting/mlflow/mlf...</td>\n",
       "      <td>1752-07-08</td>\n",
       "    </tr>\n",
       "    <tr>\n",
       "      <th>1</th>\n",
       "      <td>test_deepAR</td>\n",
       "      <td>test_deepAR--num_transactions</td>\n",
       "      <td>dag_id_1</td>\n",
       "      <td>1752-06-24 00:00:00</td>\n",
       "      <td>1752-06-25</td>\n",
       "      <td>14</td>\n",
       "      <td>3253.348379</td>\n",
       "      <td>3259.682066</td>\n",
       "      <td>1.160951</td>\n",
       "      <td>s3://tiger-mle-shipping-forecasting/mlflow/mlf...</td>\n",
       "      <td>s3://tiger-mle-shipping-forecasting/outputs/fo...</td>\n",
       "      <td>s3://tiger-mle-shipping-forecasting/mlflow/mlf...</td>\n",
       "      <td>s3://tiger-mle-shipping-forecasting/mlflow/mlf...</td>\n",
       "      <td>1752-07-09</td>\n",
       "    </tr>\n",
       "    <tr>\n",
       "      <th>1</th>\n",
       "      <td>test_deepAR</td>\n",
       "      <td>test_deepAR--num_transactions</td>\n",
       "      <td>dag_id_1</td>\n",
       "      <td>1752-06-24 00:00:00</td>\n",
       "      <td>1752-06-25</td>\n",
       "      <td>14</td>\n",
       "      <td>3253.348379</td>\n",
       "      <td>3259.682066</td>\n",
       "      <td>1.160951</td>\n",
       "      <td>s3://tiger-mle-shipping-forecasting/mlflow/mlf...</td>\n",
       "      <td>s3://tiger-mle-shipping-forecasting/outputs/fo...</td>\n",
       "      <td>s3://tiger-mle-shipping-forecasting/mlflow/mlf...</td>\n",
       "      <td>s3://tiger-mle-shipping-forecasting/mlflow/mlf...</td>\n",
       "      <td>1752-07-09</td>\n",
       "    </tr>\n",
       "    <tr>\n",
       "      <th>2</th>\n",
       "      <td>test_deepAR</td>\n",
       "      <td>test_deepAR--num_transactions</td>\n",
       "      <td>dag_id_1</td>\n",
       "      <td>1752-06-25 00:00:00</td>\n",
       "      <td>1752-06-26</td>\n",
       "      <td>14</td>\n",
       "      <td>3254.787330</td>\n",
       "      <td>3254.199716</td>\n",
       "      <td>1.159307</td>\n",
       "      <td>s3://tiger-mle-shipping-forecasting/mlflow/mlf...</td>\n",
       "      <td>s3://tiger-mle-shipping-forecasting/outputs/fo...</td>\n",
       "      <td>s3://tiger-mle-shipping-forecasting/mlflow/mlf...</td>\n",
       "      <td>s3://tiger-mle-shipping-forecasting/mlflow/mlf...</td>\n",
       "      <td>1752-07-10</td>\n",
       "    </tr>\n",
       "    <tr>\n",
       "      <th>2</th>\n",
       "      <td>test_deepAR</td>\n",
       "      <td>test_deepAR--num_transactions</td>\n",
       "      <td>dag_id_1</td>\n",
       "      <td>1752-06-25 00:00:00</td>\n",
       "      <td>1752-06-26</td>\n",
       "      <td>14</td>\n",
       "      <td>3254.787330</td>\n",
       "      <td>3254.199716</td>\n",
       "      <td>1.159307</td>\n",
       "      <td>s3://tiger-mle-shipping-forecasting/mlflow/mlf...</td>\n",
       "      <td>s3://tiger-mle-shipping-forecasting/outputs/fo...</td>\n",
       "      <td>s3://tiger-mle-shipping-forecasting/mlflow/mlf...</td>\n",
       "      <td>s3://tiger-mle-shipping-forecasting/mlflow/mlf...</td>\n",
       "      <td>1752-07-10</td>\n",
       "    </tr>\n",
       "    <tr>\n",
       "      <th>3</th>\n",
       "      <td>test_deepAR</td>\n",
       "      <td>test_deepAR--num_transactions</td>\n",
       "      <td>dag_id_1</td>\n",
       "      <td>1752-06-26 00:00:00</td>\n",
       "      <td>1752-06-27</td>\n",
       "      <td>14</td>\n",
       "      <td>3259.130780</td>\n",
       "      <td>3254.350309</td>\n",
       "      <td>1.158047</td>\n",
       "      <td>s3://tiger-mle-shipping-forecasting/mlflow/mlf...</td>\n",
       "      <td>s3://tiger-mle-shipping-forecasting/outputs/fo...</td>\n",
       "      <td>s3://tiger-mle-shipping-forecasting/mlflow/mlf...</td>\n",
       "      <td>s3://tiger-mle-shipping-forecasting/mlflow/mlf...</td>\n",
       "      <td>1752-07-11</td>\n",
       "    </tr>\n",
       "    <tr>\n",
       "      <th>3</th>\n",
       "      <td>test_deepAR</td>\n",
       "      <td>test_deepAR--num_transactions</td>\n",
       "      <td>dag_id_1</td>\n",
       "      <td>1752-06-26 00:00:00</td>\n",
       "      <td>1752-06-27</td>\n",
       "      <td>14</td>\n",
       "      <td>3259.130780</td>\n",
       "      <td>3254.350309</td>\n",
       "      <td>1.158047</td>\n",
       "      <td>s3://tiger-mle-shipping-forecasting/mlflow/mlf...</td>\n",
       "      <td>s3://tiger-mle-shipping-forecasting/outputs/fo...</td>\n",
       "      <td>s3://tiger-mle-shipping-forecasting/mlflow/mlf...</td>\n",
       "      <td>s3://tiger-mle-shipping-forecasting/mlflow/mlf...</td>\n",
       "      <td>1752-07-11</td>\n",
       "    </tr>\n",
       "    <tr>\n",
       "      <th>4</th>\n",
       "      <td>test_deepAR</td>\n",
       "      <td>test_deepAR--num_transactions</td>\n",
       "      <td>dag_id_1</td>\n",
       "      <td>1752-06-27 00:00:00</td>\n",
       "      <td>1752-06-28</td>\n",
       "      <td>14</td>\n",
       "      <td>3265.504263</td>\n",
       "      <td>3244.422330</td>\n",
       "      <td>1.155264</td>\n",
       "      <td>s3://tiger-mle-shipping-forecasting/mlflow/mlf...</td>\n",
       "      <td>s3://tiger-mle-shipping-forecasting/outputs/fo...</td>\n",
       "      <td>s3://tiger-mle-shipping-forecasting/mlflow/mlf...</td>\n",
       "      <td>s3://tiger-mle-shipping-forecasting/mlflow/mlf...</td>\n",
       "      <td>1752-07-12</td>\n",
       "    </tr>\n",
       "    <tr>\n",
       "      <th>4</th>\n",
       "      <td>test_deepAR</td>\n",
       "      <td>test_deepAR--num_transactions</td>\n",
       "      <td>dag_id_1</td>\n",
       "      <td>1752-06-27 00:00:00</td>\n",
       "      <td>1752-06-28</td>\n",
       "      <td>14</td>\n",
       "      <td>3265.504263</td>\n",
       "      <td>3244.422330</td>\n",
       "      <td>1.155264</td>\n",
       "      <td>s3://tiger-mle-shipping-forecasting/mlflow/mlf...</td>\n",
       "      <td>s3://tiger-mle-shipping-forecasting/outputs/fo...</td>\n",
       "      <td>s3://tiger-mle-shipping-forecasting/mlflow/mlf...</td>\n",
       "      <td>s3://tiger-mle-shipping-forecasting/mlflow/mlf...</td>\n",
       "      <td>1752-07-12</td>\n",
       "    </tr>\n",
       "    <tr>\n",
       "      <th>5</th>\n",
       "      <td>test_deepAR</td>\n",
       "      <td>test_deepAR--num_transactions</td>\n",
       "      <td>dag_id_1</td>\n",
       "      <td>1752-06-28 00:00:00</td>\n",
       "      <td>1752-06-29</td>\n",
       "      <td>14</td>\n",
       "      <td>3219.312458</td>\n",
       "      <td>3239.248394</td>\n",
       "      <td>1.153834</td>\n",
       "      <td>s3://tiger-mle-shipping-forecasting/mlflow/mlf...</td>\n",
       "      <td>s3://tiger-mle-shipping-forecasting/outputs/fo...</td>\n",
       "      <td>s3://tiger-mle-shipping-forecasting/mlflow/mlf...</td>\n",
       "      <td>s3://tiger-mle-shipping-forecasting/mlflow/mlf...</td>\n",
       "      <td>1752-07-13</td>\n",
       "    </tr>\n",
       "    <tr>\n",
       "      <th>5</th>\n",
       "      <td>test_deepAR</td>\n",
       "      <td>test_deepAR--num_transactions</td>\n",
       "      <td>dag_id_1</td>\n",
       "      <td>1752-06-28 00:00:00</td>\n",
       "      <td>1752-06-29</td>\n",
       "      <td>14</td>\n",
       "      <td>3219.312458</td>\n",
       "      <td>3239.248394</td>\n",
       "      <td>1.153834</td>\n",
       "      <td>s3://tiger-mle-shipping-forecasting/mlflow/mlf...</td>\n",
       "      <td>s3://tiger-mle-shipping-forecasting/outputs/fo...</td>\n",
       "      <td>s3://tiger-mle-shipping-forecasting/mlflow/mlf...</td>\n",
       "      <td>s3://tiger-mle-shipping-forecasting/mlflow/mlf...</td>\n",
       "      <td>1752-07-13</td>\n",
       "    </tr>\n",
       "    <tr>\n",
       "      <th>6</th>\n",
       "      <td>test_deepAR</td>\n",
       "      <td>test_deepAR--num_transactions</td>\n",
       "      <td>dag_id_1</td>\n",
       "      <td>1752-06-29 00:00:00</td>\n",
       "      <td>1752-06-30</td>\n",
       "      <td>14</td>\n",
       "      <td>3218.800814</td>\n",
       "      <td>3227.050115</td>\n",
       "      <td>1.150571</td>\n",
       "      <td>s3://tiger-mle-shipping-forecasting/mlflow/mlf...</td>\n",
       "      <td>s3://tiger-mle-shipping-forecasting/outputs/fo...</td>\n",
       "      <td>s3://tiger-mle-shipping-forecasting/mlflow/mlf...</td>\n",
       "      <td>s3://tiger-mle-shipping-forecasting/mlflow/mlf...</td>\n",
       "      <td>1752-07-14</td>\n",
       "    </tr>\n",
       "    <tr>\n",
       "      <th>6</th>\n",
       "      <td>test_deepAR</td>\n",
       "      <td>test_deepAR--num_transactions</td>\n",
       "      <td>dag_id_1</td>\n",
       "      <td>1752-06-29 00:00:00</td>\n",
       "      <td>1752-06-30</td>\n",
       "      <td>14</td>\n",
       "      <td>3218.800814</td>\n",
       "      <td>3227.050115</td>\n",
       "      <td>1.150571</td>\n",
       "      <td>s3://tiger-mle-shipping-forecasting/mlflow/mlf...</td>\n",
       "      <td>s3://tiger-mle-shipping-forecasting/outputs/fo...</td>\n",
       "      <td>s3://tiger-mle-shipping-forecasting/mlflow/mlf...</td>\n",
       "      <td>s3://tiger-mle-shipping-forecasting/mlflow/mlf...</td>\n",
       "      <td>1752-07-14</td>\n",
       "    </tr>\n",
       "  </tbody>\n",
       "</table>\n",
       "</div>"
      ],
      "text/plain": [
       "      exp_name                       run_name    dag_id      last_train_date  \\\n",
       "0  test_deepAR  test_deepAR--num_transactions  dag_id_1  1752-06-23 00:00:00   \n",
       "0  test_deepAR  test_deepAR--num_transactions  dag_id_1  1752-06-23 00:00:00   \n",
       "1  test_deepAR  test_deepAR--num_transactions  dag_id_1  1752-06-24 00:00:00   \n",
       "1  test_deepAR  test_deepAR--num_transactions  dag_id_1  1752-06-24 00:00:00   \n",
       "2  test_deepAR  test_deepAR--num_transactions  dag_id_1  1752-06-25 00:00:00   \n",
       "2  test_deepAR  test_deepAR--num_transactions  dag_id_1  1752-06-25 00:00:00   \n",
       "3  test_deepAR  test_deepAR--num_transactions  dag_id_1  1752-06-26 00:00:00   \n",
       "3  test_deepAR  test_deepAR--num_transactions  dag_id_1  1752-06-26 00:00:00   \n",
       "4  test_deepAR  test_deepAR--num_transactions  dag_id_1  1752-06-27 00:00:00   \n",
       "4  test_deepAR  test_deepAR--num_transactions  dag_id_1  1752-06-27 00:00:00   \n",
       "5  test_deepAR  test_deepAR--num_transactions  dag_id_1  1752-06-28 00:00:00   \n",
       "5  test_deepAR  test_deepAR--num_transactions  dag_id_1  1752-06-28 00:00:00   \n",
       "6  test_deepAR  test_deepAR--num_transactions  dag_id_1  1752-06-29 00:00:00   \n",
       "6  test_deepAR  test_deepAR--num_transactions  dag_id_1  1752-06-29 00:00:00   \n",
       "\n",
       "  model_date prediction_length      avg_mad  avg_mean_dev  avg_wmape  \\\n",
       "0 1752-06-24                14  3270.549143   3271.496446   1.165686   \n",
       "0 1752-06-24                14  3270.549143   3271.496446   1.165686   \n",
       "1 1752-06-25                14  3253.348379   3259.682066   1.160951   \n",
       "1 1752-06-25                14  3253.348379   3259.682066   1.160951   \n",
       "2 1752-06-26                14  3254.787330   3254.199716   1.159307   \n",
       "2 1752-06-26                14  3254.787330   3254.199716   1.159307   \n",
       "3 1752-06-27                14  3259.130780   3254.350309   1.158047   \n",
       "3 1752-06-27                14  3259.130780   3254.350309   1.158047   \n",
       "4 1752-06-28                14  3265.504263   3244.422330   1.155264   \n",
       "4 1752-06-28                14  3265.504263   3244.422330   1.155264   \n",
       "5 1752-06-29                14  3219.312458   3239.248394   1.153834   \n",
       "5 1752-06-29                14  3219.312458   3239.248394   1.153834   \n",
       "6 1752-06-30                14  3218.800814   3227.050115   1.150571   \n",
       "6 1752-06-30                14  3218.800814   3227.050115   1.150571   \n",
       "\n",
       "                                           model_uri  \\\n",
       "0  s3://tiger-mle-shipping-forecasting/mlflow/mlf...   \n",
       "0  s3://tiger-mle-shipping-forecasting/mlflow/mlf...   \n",
       "1  s3://tiger-mle-shipping-forecasting/mlflow/mlf...   \n",
       "1  s3://tiger-mle-shipping-forecasting/mlflow/mlf...   \n",
       "2  s3://tiger-mle-shipping-forecasting/mlflow/mlf...   \n",
       "2  s3://tiger-mle-shipping-forecasting/mlflow/mlf...   \n",
       "3  s3://tiger-mle-shipping-forecasting/mlflow/mlf...   \n",
       "3  s3://tiger-mle-shipping-forecasting/mlflow/mlf...   \n",
       "4  s3://tiger-mle-shipping-forecasting/mlflow/mlf...   \n",
       "4  s3://tiger-mle-shipping-forecasting/mlflow/mlf...   \n",
       "5  s3://tiger-mle-shipping-forecasting/mlflow/mlf...   \n",
       "5  s3://tiger-mle-shipping-forecasting/mlflow/mlf...   \n",
       "6  s3://tiger-mle-shipping-forecasting/mlflow/mlf...   \n",
       "6  s3://tiger-mle-shipping-forecasting/mlflow/mlf...   \n",
       "\n",
       "                                  score_artifact_uri  \\\n",
       "0  s3://tiger-mle-shipping-forecasting/outputs/fo...   \n",
       "0  s3://tiger-mle-shipping-forecasting/outputs/fo...   \n",
       "1  s3://tiger-mle-shipping-forecasting/outputs/fo...   \n",
       "1  s3://tiger-mle-shipping-forecasting/outputs/fo...   \n",
       "2  s3://tiger-mle-shipping-forecasting/outputs/fo...   \n",
       "2  s3://tiger-mle-shipping-forecasting/outputs/fo...   \n",
       "3  s3://tiger-mle-shipping-forecasting/outputs/fo...   \n",
       "3  s3://tiger-mle-shipping-forecasting/outputs/fo...   \n",
       "4  s3://tiger-mle-shipping-forecasting/outputs/fo...   \n",
       "4  s3://tiger-mle-shipping-forecasting/outputs/fo...   \n",
       "5  s3://tiger-mle-shipping-forecasting/outputs/fo...   \n",
       "5  s3://tiger-mle-shipping-forecasting/outputs/fo...   \n",
       "6  s3://tiger-mle-shipping-forecasting/outputs/fo...   \n",
       "6  s3://tiger-mle-shipping-forecasting/outputs/fo...   \n",
       "\n",
       "                                         metrics_uri  \\\n",
       "0  s3://tiger-mle-shipping-forecasting/mlflow/mlf...   \n",
       "0  s3://tiger-mle-shipping-forecasting/mlflow/mlf...   \n",
       "1  s3://tiger-mle-shipping-forecasting/mlflow/mlf...   \n",
       "1  s3://tiger-mle-shipping-forecasting/mlflow/mlf...   \n",
       "2  s3://tiger-mle-shipping-forecasting/mlflow/mlf...   \n",
       "2  s3://tiger-mle-shipping-forecasting/mlflow/mlf...   \n",
       "3  s3://tiger-mle-shipping-forecasting/mlflow/mlf...   \n",
       "3  s3://tiger-mle-shipping-forecasting/mlflow/mlf...   \n",
       "4  s3://tiger-mle-shipping-forecasting/mlflow/mlf...   \n",
       "4  s3://tiger-mle-shipping-forecasting/mlflow/mlf...   \n",
       "5  s3://tiger-mle-shipping-forecasting/mlflow/mlf...   \n",
       "5  s3://tiger-mle-shipping-forecasting/mlflow/mlf...   \n",
       "6  s3://tiger-mle-shipping-forecasting/mlflow/mlf...   \n",
       "6  s3://tiger-mle-shipping-forecasting/mlflow/mlf...   \n",
       "\n",
       "                                        error_ts_uri forecast_end_date  \n",
       "0  s3://tiger-mle-shipping-forecasting/mlflow/mlf...        1752-07-08  \n",
       "0  s3://tiger-mle-shipping-forecasting/mlflow/mlf...        1752-07-08  \n",
       "1  s3://tiger-mle-shipping-forecasting/mlflow/mlf...        1752-07-09  \n",
       "1  s3://tiger-mle-shipping-forecasting/mlflow/mlf...        1752-07-09  \n",
       "2  s3://tiger-mle-shipping-forecasting/mlflow/mlf...        1752-07-10  \n",
       "2  s3://tiger-mle-shipping-forecasting/mlflow/mlf...        1752-07-10  \n",
       "3  s3://tiger-mle-shipping-forecasting/mlflow/mlf...        1752-07-11  \n",
       "3  s3://tiger-mle-shipping-forecasting/mlflow/mlf...        1752-07-11  \n",
       "4  s3://tiger-mle-shipping-forecasting/mlflow/mlf...        1752-07-12  \n",
       "4  s3://tiger-mle-shipping-forecasting/mlflow/mlf...        1752-07-12  \n",
       "5  s3://tiger-mle-shipping-forecasting/mlflow/mlf...        1752-07-13  \n",
       "5  s3://tiger-mle-shipping-forecasting/mlflow/mlf...        1752-07-13  \n",
       "6  s3://tiger-mle-shipping-forecasting/mlflow/mlf...        1752-07-14  \n",
       "6  s3://tiger-mle-shipping-forecasting/mlflow/mlf...        1752-07-14  "
      ]
     },
     "execution_count": 7,
     "metadata": {},
     "output_type": "execute_result"
    }
   ],
   "source": [
    "run_details_df = get_run_details_with_exp_name(exp_dag_list)\n",
    "run_details_df"
   ]
  },
  {
   "cell_type": "markdown",
   "metadata": {},
   "source": [
    "#### 3.2. Select experiments"
   ]
  },
  {
   "cell_type": "markdown",
   "metadata": {},
   "source": [
    "##### Note: A single experiment_run should have only one `model_version` for a given `model_date`.\n",
    "##### If you have multiple runs, include the version filter that has been commented out below"
   ]
  },
  {
   "cell_type": "code",
   "execution_count": 8,
   "metadata": {},
   "outputs": [
    {
     "data": {
      "text/html": [
       "<div>\n",
       "<style scoped>\n",
       "    .dataframe tbody tr th:only-of-type {\n",
       "        vertical-align: middle;\n",
       "    }\n",
       "\n",
       "    .dataframe tbody tr th {\n",
       "        vertical-align: top;\n",
       "    }\n",
       "\n",
       "    .dataframe thead th {\n",
       "        text-align: right;\n",
       "    }\n",
       "</style>\n",
       "<table border=\"1\" class=\"dataframe\">\n",
       "  <thead>\n",
       "    <tr style=\"text-align: right;\">\n",
       "      <th></th>\n",
       "      <th>exp_name</th>\n",
       "      <th>run_name</th>\n",
       "      <th>dag_id</th>\n",
       "      <th>last_train_date</th>\n",
       "      <th>model_date</th>\n",
       "      <th>prediction_length</th>\n",
       "      <th>avg_mad</th>\n",
       "      <th>avg_mean_dev</th>\n",
       "      <th>avg_wmape</th>\n",
       "      <th>model_uri</th>\n",
       "      <th>score_artifact_uri</th>\n",
       "      <th>metrics_uri</th>\n",
       "      <th>error_ts_uri</th>\n",
       "      <th>forecast_end_date</th>\n",
       "    </tr>\n",
       "  </thead>\n",
       "  <tbody>\n",
       "    <tr>\n",
       "      <th>0</th>\n",
       "      <td>test_deepAR</td>\n",
       "      <td>test_deepAR--num_transactions</td>\n",
       "      <td>dag_id_1</td>\n",
       "      <td>1752-06-23 00:00:00</td>\n",
       "      <td>1752-06-24</td>\n",
       "      <td>14</td>\n",
       "      <td>3270.549143</td>\n",
       "      <td>3271.496446</td>\n",
       "      <td>1.165686</td>\n",
       "      <td>s3://tiger-mle-shipping-forecasting/mlflow/mlf...</td>\n",
       "      <td>s3://tiger-mle-shipping-forecasting/outputs/fo...</td>\n",
       "      <td>s3://tiger-mle-shipping-forecasting/mlflow/mlf...</td>\n",
       "      <td>s3://tiger-mle-shipping-forecasting/mlflow/mlf...</td>\n",
       "      <td>1752-07-08</td>\n",
       "    </tr>\n",
       "    <tr>\n",
       "      <th>0</th>\n",
       "      <td>test_deepAR</td>\n",
       "      <td>test_deepAR--num_transactions</td>\n",
       "      <td>dag_id_1</td>\n",
       "      <td>1752-06-23 00:00:00</td>\n",
       "      <td>1752-06-24</td>\n",
       "      <td>14</td>\n",
       "      <td>3270.549143</td>\n",
       "      <td>3271.496446</td>\n",
       "      <td>1.165686</td>\n",
       "      <td>s3://tiger-mle-shipping-forecasting/mlflow/mlf...</td>\n",
       "      <td>s3://tiger-mle-shipping-forecasting/outputs/fo...</td>\n",
       "      <td>s3://tiger-mle-shipping-forecasting/mlflow/mlf...</td>\n",
       "      <td>s3://tiger-mle-shipping-forecasting/mlflow/mlf...</td>\n",
       "      <td>1752-07-08</td>\n",
       "    </tr>\n",
       "  </tbody>\n",
       "</table>\n",
       "</div>"
      ],
      "text/plain": [
       "      exp_name                       run_name    dag_id      last_train_date  \\\n",
       "0  test_deepAR  test_deepAR--num_transactions  dag_id_1  1752-06-23 00:00:00   \n",
       "0  test_deepAR  test_deepAR--num_transactions  dag_id_1  1752-06-23 00:00:00   \n",
       "\n",
       "  model_date prediction_length      avg_mad  avg_mean_dev  avg_wmape  \\\n",
       "0 1752-06-24                14  3270.549143   3271.496446   1.165686   \n",
       "0 1752-06-24                14  3270.549143   3271.496446   1.165686   \n",
       "\n",
       "                                           model_uri  \\\n",
       "0  s3://tiger-mle-shipping-forecasting/mlflow/mlf...   \n",
       "0  s3://tiger-mle-shipping-forecasting/mlflow/mlf...   \n",
       "\n",
       "                                  score_artifact_uri  \\\n",
       "0  s3://tiger-mle-shipping-forecasting/outputs/fo...   \n",
       "0  s3://tiger-mle-shipping-forecasting/outputs/fo...   \n",
       "\n",
       "                                         metrics_uri  \\\n",
       "0  s3://tiger-mle-shipping-forecasting/mlflow/mlf...   \n",
       "0  s3://tiger-mle-shipping-forecasting/mlflow/mlf...   \n",
       "\n",
       "                                        error_ts_uri forecast_end_date  \n",
       "0  s3://tiger-mle-shipping-forecasting/mlflow/mlf...        1752-07-08  \n",
       "0  s3://tiger-mle-shipping-forecasting/mlflow/mlf...        1752-07-08  "
      ]
     },
     "execution_count": 8,
     "metadata": {},
     "output_type": "execute_result"
    }
   ],
   "source": [
    "filter_df = run_details_df.loc[\n",
    "    (run_details_df['model_date']==\"1752-06-24\")\n",
    "    & (run_details_df['exp_name'].isin([\"test_deepAR\", \"test_deepAR\"]))\n",
    "    & (run_details_df['dag_id'].isin([\n",
    "        \"dag_id_1\", \"dag_id_1\", \n",
    "        \"dag_id_1\", \"dag_id_1\"\n",
    "    ]))\n",
    "]\n",
    "filter_df"
   ]
  },
  {
   "cell_type": "markdown",
   "metadata": {},
   "source": [
    "#### 3.4. Get final prepared df"
   ]
  },
  {
   "cell_type": "code",
   "execution_count": 9,
   "metadata": {},
   "outputs": [],
   "source": [
    "final_df_list, final_melted_df = get_final_run_level_merged_df(filter_df)"
   ]
  },
  {
   "cell_type": "markdown",
   "metadata": {},
   "source": [
    "### 4. Compare ACROSS-RUNS"
   ]
  },
  {
   "cell_type": "code",
   "execution_count": 10,
   "metadata": {},
   "outputs": [
    {
     "data": {
      "text/html": [
       "<style  type=\"text/css\" >\n",
       "    #T_e6bd673c_b1f6_11ea_a223_0a1431590805row0_col6 {\n",
       "            background-color:  #ffe5e5;\n",
       "            color:  #000000;\n",
       "        }    #T_e6bd673c_b1f6_11ea_a223_0a1431590805row0_col7 {\n",
       "            background-color:  #ffe5e5;\n",
       "            color:  #000000;\n",
       "        }    #T_e6bd673c_b1f6_11ea_a223_0a1431590805row0_col8 {\n",
       "            background-color:  #ffe5e5;\n",
       "            color:  #000000;\n",
       "        }</style><table id=\"T_e6bd673c_b1f6_11ea_a223_0a1431590805\" ><thead>    <tr>        <th class=\"blank level0\" ></th>        <th class=\"col_heading level0 col0\" >exp_name</th>        <th class=\"col_heading level0 col1\" >run_name</th>        <th class=\"col_heading level0 col2\" >dag_id</th>        <th class=\"col_heading level0 col3\" >last_train_date</th>        <th class=\"col_heading level0 col4\" >model_date</th>        <th class=\"col_heading level0 col5\" >prediction_length</th>        <th class=\"col_heading level0 col6\" >avg_mad</th>        <th class=\"col_heading level0 col7\" >avg_mean_dev</th>        <th class=\"col_heading level0 col8\" >avg_wmape</th>        <th class=\"col_heading level0 col9\" >model_uri</th>        <th class=\"col_heading level0 col10\" >score_artifact_uri</th>        <th class=\"col_heading level0 col11\" >metrics_uri</th>        <th class=\"col_heading level0 col12\" >error_ts_uri</th>        <th class=\"col_heading level0 col13\" >forecast_end_date</th>        <th class=\"col_heading level0 col14\" >exp_name_dag_id</th>    </tr></thead><tbody>\n",
       "                <tr>\n",
       "                        <th id=\"T_e6bd673c_b1f6_11ea_a223_0a1431590805level0_row0\" class=\"row_heading level0 row0\" >0</th>\n",
       "                        <td id=\"T_e6bd673c_b1f6_11ea_a223_0a1431590805row0_col0\" class=\"data row0 col0\" >test_deepAR</td>\n",
       "                        <td id=\"T_e6bd673c_b1f6_11ea_a223_0a1431590805row0_col1\" class=\"data row0 col1\" >test_deepAR--num_transactions</td>\n",
       "                        <td id=\"T_e6bd673c_b1f6_11ea_a223_0a1431590805row0_col2\" class=\"data row0 col2\" >dag_id_1</td>\n",
       "                        <td id=\"T_e6bd673c_b1f6_11ea_a223_0a1431590805row0_col3\" class=\"data row0 col3\" >1752-06-23 00:00:00</td>\n",
       "                        <td id=\"T_e6bd673c_b1f6_11ea_a223_0a1431590805row0_col4\" class=\"data row0 col4\" >1752-06-24 00:00:00</td>\n",
       "                        <td id=\"T_e6bd673c_b1f6_11ea_a223_0a1431590805row0_col5\" class=\"data row0 col5\" >14</td>\n",
       "                        <td id=\"T_e6bd673c_b1f6_11ea_a223_0a1431590805row0_col6\" class=\"data row0 col6\" >3270.549143</td>\n",
       "                        <td id=\"T_e6bd673c_b1f6_11ea_a223_0a1431590805row0_col7\" class=\"data row0 col7\" >3271.496446</td>\n",
       "                        <td id=\"T_e6bd673c_b1f6_11ea_a223_0a1431590805row0_col8\" class=\"data row0 col8\" >1.165686</td>\n",
       "                        <td id=\"T_e6bd673c_b1f6_11ea_a223_0a1431590805row0_col9\" class=\"data row0 col9\" >s3://tiger-mle-shipping-forecasting/mlflow/mlflow-artifacts/3bf93f2017b94234b058acf94b4080b5/artifacts</td>\n",
       "                        <td id=\"T_e6bd673c_b1f6_11ea_a223_0a1431590805row0_col10\" class=\"data row0 col10\" >s3://tiger-mle-shipping-forecasting/outputs/forecast-results/test_deepAR/EXE_17520624/num_transactions</td>\n",
       "                        <td id=\"T_e6bd673c_b1f6_11ea_a223_0a1431590805row0_col11\" class=\"data row0 col11\" >s3://tiger-mle-shipping-forecasting/mlflow/mlflow-artifacts/3bf93f2017b94234b058acf94b4080b5/artifacts/metrics/item_level_metrics.csv</td>\n",
       "                        <td id=\"T_e6bd673c_b1f6_11ea_a223_0a1431590805row0_col12\" class=\"data row0 col12\" >s3://tiger-mle-shipping-forecasting/mlflow/mlflow-artifacts/3bf93f2017b94234b058acf94b4080b5/artifacts/error/score_ts_error_list.csv</td>\n",
       "                        <td id=\"T_e6bd673c_b1f6_11ea_a223_0a1431590805row0_col13\" class=\"data row0 col13\" >1752-07-08 00:00:00</td>\n",
       "                        <td id=\"T_e6bd673c_b1f6_11ea_a223_0a1431590805row0_col14\" class=\"data row0 col14\" >test_deepAR,\n",
       "dag_id_1</td>\n",
       "            </tr>\n",
       "    </tbody></table>"
      ],
      "text/plain": [
       "<pandas.io.formats.style.Styler at 0x7f5e19709f60>"
      ]
     },
     "execution_count": 10,
     "metadata": {},
     "output_type": "execute_result"
    }
   ],
   "source": [
    "print_final_df_with_grad(final_df_list)"
   ]
  },
  {
   "cell_type": "code",
   "execution_count": 11,
   "metadata": {},
   "outputs": [
    {
     "data": {
      "image/png": "[encoded data removed]",
      "text/plain": [
       "<Figure size 1080x720 with 3 Axes>"
      ]
     },
     "metadata": {
      "needs_background": "light"
     },
     "output_type": "display_data"
    }
   ],
   "source": [
    "compare_across_runs(final_melted_df, figsize=(15, 10))"
   ]
  },
  {
   "cell_type": "markdown",
   "metadata": {},
   "source": [
    "### 5. Compare item level metrics"
   ]
  },
  {
   "cell_type": "code",
   "execution_count": 12,
   "metadata": {},
   "outputs": [
    {
     "data": {
      "text/html": [
       "<div>\n",
       "<style scoped>\n",
       "    .dataframe tbody tr th:only-of-type {\n",
       "        vertical-align: middle;\n",
       "    }\n",
       "\n",
       "    .dataframe tbody tr th {\n",
       "        vertical-align: top;\n",
       "    }\n",
       "\n",
       "    .dataframe thead th {\n",
       "        text-align: right;\n",
       "    }\n",
       "</style>\n",
       "<table border=\"1\" class=\"dataframe\">\n",
       "  <thead>\n",
       "    <tr style=\"text-align: right;\">\n",
       "      <th></th>\n",
       "      <th>exp_name</th>\n",
       "      <th>run_name</th>\n",
       "      <th>dag_id</th>\n",
       "      <th>last_train_date</th>\n",
       "      <th>model_date</th>\n",
       "      <th>prediction_length</th>\n",
       "      <th>avg_mad</th>\n",
       "      <th>avg_mean_dev</th>\n",
       "      <th>avg_wmape</th>\n",
       "      <th>model_uri</th>\n",
       "      <th>score_artifact_uri</th>\n",
       "      <th>metrics_uri</th>\n",
       "      <th>error_ts_uri</th>\n",
       "      <th>forecast_end_date</th>\n",
       "      <th>exp_name_dag_id</th>\n",
       "    </tr>\n",
       "  </thead>\n",
       "  <tbody>\n",
       "    <tr>\n",
       "      <th>0</th>\n",
       "      <td>test_deepAR</td>\n",
       "      <td>test_deepAR--num_transactions</td>\n",
       "      <td>dag_id_1</td>\n",
       "      <td>1752-06-23 00:00:00</td>\n",
       "      <td>1752-06-24</td>\n",
       "      <td>14</td>\n",
       "      <td>3270.549143</td>\n",
       "      <td>3271.496446</td>\n",
       "      <td>1.165686</td>\n",
       "      <td>s3://tiger-mle-shipping-forecasting/mlflow/mlf...</td>\n",
       "      <td>s3://tiger-mle-shipping-forecasting/outputs/fo...</td>\n",
       "      <td>s3://tiger-mle-shipping-forecasting/mlflow/mlf...</td>\n",
       "      <td>s3://tiger-mle-shipping-forecasting/mlflow/mlf...</td>\n",
       "      <td>1752-07-08</td>\n",
       "      <td>test_deepAR,\\ndag_id_1</td>\n",
       "    </tr>\n",
       "  </tbody>\n",
       "</table>\n",
       "</div>"
      ],
      "text/plain": [
       "      exp_name                       run_name    dag_id      last_train_date  \\\n",
       "0  test_deepAR  test_deepAR--num_transactions  dag_id_1  1752-06-23 00:00:00   \n",
       "\n",
       "  model_date prediction_length      avg_mad  avg_mean_dev  avg_wmape  \\\n",
       "0 1752-06-24                14  3270.549143   3271.496446   1.165686   \n",
       "\n",
       "                                           model_uri  \\\n",
       "0  s3://tiger-mle-shipping-forecasting/mlflow/mlf...   \n",
       "\n",
       "                                  score_artifact_uri  \\\n",
       "0  s3://tiger-mle-shipping-forecasting/outputs/fo...   \n",
       "\n",
       "                                         metrics_uri  \\\n",
       "0  s3://tiger-mle-shipping-forecasting/mlflow/mlf...   \n",
       "\n",
       "                                        error_ts_uri forecast_end_date  \\\n",
       "0  s3://tiger-mle-shipping-forecasting/mlflow/mlf...        1752-07-08   \n",
       "\n",
       "          exp_name_dag_id  \n",
       "0  test_deepAR,\\ndag_id_1  "
      ]
     },
     "execution_count": 12,
     "metadata": {},
     "output_type": "execute_result"
    }
   ],
   "source": [
    "final_df_list"
   ]
  },
  {
   "cell_type": "code",
   "execution_count": 13,
   "metadata": {},
   "outputs": [
    {
     "name": "stderr",
     "output_type": "stream",
     "text": [
      "2020-06-19 06:34:18 — ts_forecast.core.utils.viz — INFO — get_final_item_level_merged_df:220 — Reading: s3://tiger-mle-shipping-forecasting/mlflow/mlflow-artifacts/3bf93f2017b94234b058acf94b4080b5/artifacts/metrics/item_level_metrics.csv\n"
     ]
    }
   ],
   "source": [
    "exp_dag_list = {\n",
    "    \"test_deepAR\" : \"dag_id_1\",\n",
    "    \"test_deepAR\" : \"dag_id_1\"\n",
    "}\n",
    "item_level_metrics_df = get_final_item_level_merged_df(exp_dag_list, final_df_list)"
   ]
  },
  {
   "cell_type": "markdown",
   "metadata": {},
   "source": [
    "#### 5.1. Run_1 and Run_2 comparison"
   ]
  },
  {
   "cell_type": "markdown",
   "metadata": {},
   "source": [
    "#### `mad` analysis"
   ]
  },
  {
   "cell_type": "code",
   "execution_count": 14,
   "metadata": {},
   "outputs": [
    {
     "data": {
      "text/html": [
       "<style  type=\"text/css\" >\n",
       "    #T_e75b9c0e_b1f6_11ea_a223_0a1431590805row0_col0 {\n",
       "            background-color:  #008000;\n",
       "            color:  #f1f1f1;\n",
       "        }    #T_e75b9c0e_b1f6_11ea_a223_0a1431590805row1_col0 {\n",
       "            background-color:  #5cb35c;\n",
       "            color:  #000000;\n",
       "        }    #T_e75b9c0e_b1f6_11ea_a223_0a1431590805row2_col0 {\n",
       "            background-color:  #b8e6b8;\n",
       "            color:  #000000;\n",
       "        }    #T_e75b9c0e_b1f6_11ea_a223_0a1431590805row3_col0 {\n",
       "            background-color:  #e5ffe5;\n",
       "            color:  #000000;\n",
       "        }</style><table id=\"T_e75b9c0e_b1f6_11ea_a223_0a1431590805\" ><thead>    <tr>        <th class=\"blank level0\" ></th>        <th class=\"col_heading level0 col0\" >avg_mad</th>    </tr></thead><tbody>\n",
       "                <tr>\n",
       "                        <th id=\"T_e75b9c0e_b1f6_11ea_a223_0a1431590805level0_row0\" class=\"row_heading level0 row0\" >(486.538, 2707.178]</th>\n",
       "                        <td id=\"T_e75b9c0e_b1f6_11ea_a223_0a1431590805row0_col0\" class=\"data row0 col0\" >0.461538</td>\n",
       "            </tr>\n",
       "            <tr>\n",
       "                        <th id=\"T_e75b9c0e_b1f6_11ea_a223_0a1431590805level0_row1\" class=\"row_heading level0 row1\" >(2707.178, 4918.971]</th>\n",
       "                        <td id=\"T_e75b9c0e_b1f6_11ea_a223_0a1431590805row1_col0\" class=\"data row1 col0\" >0.307692</td>\n",
       "            </tr>\n",
       "            <tr>\n",
       "                        <th id=\"T_e75b9c0e_b1f6_11ea_a223_0a1431590805level0_row2\" class=\"row_heading level0 row2\" >(7130.764, 9342.557]</th>\n",
       "                        <td id=\"T_e75b9c0e_b1f6_11ea_a223_0a1431590805row2_col0\" class=\"data row2 col0\" >0.153846</td>\n",
       "            </tr>\n",
       "            <tr>\n",
       "                        <th id=\"T_e75b9c0e_b1f6_11ea_a223_0a1431590805level0_row3\" class=\"row_heading level0 row3\" >(4918.971, 7130.764]</th>\n",
       "                        <td id=\"T_e75b9c0e_b1f6_11ea_a223_0a1431590805row3_col0\" class=\"data row3 col0\" >0.076923</td>\n",
       "            </tr>\n",
       "    </tbody></table>"
      ],
      "text/plain": [
       "<pandas.io.formats.style.Styler at 0x7f5e10456710>"
      ]
     },
     "execution_count": 14,
     "metadata": {},
     "output_type": "execute_result"
    },
    {
     "data": {
      "image/png": "[encoded data removed]",
      "text/plain": [
       "<Figure size 432x432 with 1 Axes>"
      ]
     },
     "metadata": {},
     "output_type": "display_data"
    }
   ],
   "source": [
    "error_metric_name = \"avg_mad\"\n",
    "compare_across_ts_pie(\n",
    "    error_metric_name=error_metric_name, \n",
    "    item_level_metrics_df=item_level_metrics_df, \n",
    "    bins=4,\n",
    "    figsize=(6, 6), \n",
    "    fontsize=12,\n",
    ")"
   ]
  },
  {
   "cell_type": "code",
   "execution_count": 15,
   "metadata": {},
   "outputs": [
    {
     "data": {
      "image/png": "[encoded data removed]",
      "text/plain": [
       "<Figure size 720x288 with 1 Axes>"
      ]
     },
     "metadata": {
      "needs_background": "light"
     },
     "output_type": "display_data"
    }
   ],
   "source": [
    "compare_across_ts_bar(\n",
    "    error_metric_name=error_metric_name, \n",
    "    item_level_metrics_df=item_level_metrics_df, \n",
    "    figsize=(10, 4), \n",
    "    error_metric_threshold=7130\n",
    ")"
   ]
  },
  {
   "cell_type": "markdown",
   "metadata": {},
   "source": [
    "#### `avg_mean_dev` analysis"
   ]
  },
  {
   "cell_type": "code",
   "execution_count": 16,
   "metadata": {},
   "outputs": [
    {
     "data": {
      "text/html": [
       "<style  type=\"text/css\" >\n",
       "    #T_e785ba48_b1f6_11ea_a223_0a1431590805row0_col0 {\n",
       "            background-color:  #008000;\n",
       "            color:  #f1f1f1;\n",
       "        }    #T_e785ba48_b1f6_11ea_a223_0a1431590805row1_col0 {\n",
       "            background-color:  #99d599;\n",
       "            color:  #000000;\n",
       "        }    #T_e785ba48_b1f6_11ea_a223_0a1431590805row2_col0 {\n",
       "            background-color:  #c0eac0;\n",
       "            color:  #000000;\n",
       "        }    #T_e785ba48_b1f6_11ea_a223_0a1431590805row3_col0 {\n",
       "            background-color:  #e5ffe5;\n",
       "            color:  #000000;\n",
       "        }</style><table id=\"T_e785ba48_b1f6_11ea_a223_0a1431590805\" ><thead>    <tr>        <th class=\"blank level0\" ></th>        <th class=\"col_heading level0 col0\" >avg_mean_dev</th>    </tr></thead><tbody>\n",
       "                <tr>\n",
       "                        <th id=\"T_e785ba48_b1f6_11ea_a223_0a1431590805level0_row0\" class=\"row_heading level0 row0\" >(535.115, 2770.45]</th>\n",
       "                        <td id=\"T_e785ba48_b1f6_11ea_a223_0a1431590805row0_col0\" class=\"data row0 col0\" >0.538462</td>\n",
       "            </tr>\n",
       "            <tr>\n",
       "                        <th id=\"T_e785ba48_b1f6_11ea_a223_0a1431590805level0_row1\" class=\"row_heading level0 row1\" >(2770.45, 4996.879]</th>\n",
       "                        <td id=\"T_e785ba48_b1f6_11ea_a223_0a1431590805row1_col0\" class=\"data row1 col0\" >0.230769</td>\n",
       "            </tr>\n",
       "            <tr>\n",
       "                        <th id=\"T_e785ba48_b1f6_11ea_a223_0a1431590805level0_row2\" class=\"row_heading level0 row2\" >(7223.308, 9449.737]</th>\n",
       "                        <td id=\"T_e785ba48_b1f6_11ea_a223_0a1431590805row2_col0\" class=\"data row2 col0\" >0.153846</td>\n",
       "            </tr>\n",
       "            <tr>\n",
       "                        <th id=\"T_e785ba48_b1f6_11ea_a223_0a1431590805level0_row3\" class=\"row_heading level0 row3\" >(4996.879, 7223.308]</th>\n",
       "                        <td id=\"T_e785ba48_b1f6_11ea_a223_0a1431590805row3_col0\" class=\"data row3 col0\" >0.076923</td>\n",
       "            </tr>\n",
       "    </tbody></table>"
      ],
      "text/plain": [
       "<pandas.io.formats.style.Styler at 0x7f5e10362400>"
      ]
     },
     "execution_count": 16,
     "metadata": {},
     "output_type": "execute_result"
    },
    {
     "data": {
      "image/png": "[encoded data removed]",
      "text/plain": [
       "<Figure size 432x432 with 1 Axes>"
      ]
     },
     "metadata": {},
     "output_type": "display_data"
    }
   ],
   "source": [
    "error_metric_name = \"avg_mean_dev\"\n",
    "compare_across_ts_pie(\n",
    "    error_metric_name=error_metric_name, \n",
    "    item_level_metrics_df=item_level_metrics_df, \n",
    "    bins=4,\n",
    "    figsize=(6, 6), \n",
    "    fontsize=12,\n",
    ")"
   ]
  },
  {
   "cell_type": "code",
   "execution_count": 17,
   "metadata": {},
   "outputs": [
    {
     "data": {
      "image/png": "[encoded data removed]",
      "text/plain": [
       "<Figure size 720x288 with 1 Axes>"
      ]
     },
     "metadata": {
      "needs_background": "light"
     },
     "output_type": "display_data"
    }
   ],
   "source": [
    "compare_across_ts_bar(\n",
    "    error_metric_name=error_metric_name, \n",
    "    item_level_metrics_df=item_level_metrics_df, \n",
    "    figsize=(10, 4), \n",
    "    error_metric_threshold=7223\n",
    ")"
   ]
  },
  {
   "cell_type": "markdown",
   "metadata": {},
   "source": [
    "#### `wmape` analysis"
   ]
  },
  {
   "cell_type": "code",
   "execution_count": 18,
   "metadata": {},
   "outputs": [
    {
     "data": {
      "text/html": [
       "<style  type=\"text/css\" >\n",
       "    #T_e7be5d08_b1f6_11ea_a223_0a1431590805row0_col0 {\n",
       "            background-color:  #008000;\n",
       "            color:  #f1f1f1;\n",
       "        }    #T_e7be5d08_b1f6_11ea_a223_0a1431590805row1_col0 {\n",
       "            background-color:  #b8e6b8;\n",
       "            color:  #000000;\n",
       "        }    #T_e7be5d08_b1f6_11ea_a223_0a1431590805row2_col0 {\n",
       "            background-color:  #cff3cf;\n",
       "            color:  #000000;\n",
       "        }    #T_e7be5d08_b1f6_11ea_a223_0a1431590805row3_col0 {\n",
       "            background-color:  #e5ffe5;\n",
       "            color:  #000000;\n",
       "        }</style><table id=\"T_e7be5d08_b1f6_11ea_a223_0a1431590805\" ><thead>    <tr>        <th class=\"blank level0\" ></th>        <th class=\"col_heading level0 col0\" >avg_wmape</th>    </tr></thead><tbody>\n",
       "                <tr>\n",
       "                        <th id=\"T_e7be5d08_b1f6_11ea_a223_0a1431590805level0_row0\" class=\"row_heading level0 row0\" >(0.179, 1.421]</th>\n",
       "                        <td id=\"T_e7be5d08_b1f6_11ea_a223_0a1431590805row0_col0\" class=\"data row0 col0\" >0.769231</td>\n",
       "            </tr>\n",
       "            <tr>\n",
       "                        <th id=\"T_e7be5d08_b1f6_11ea_a223_0a1431590805level0_row1\" class=\"row_heading level0 row1\" >(1.421, 2.657]</th>\n",
       "                        <td id=\"T_e7be5d08_b1f6_11ea_a223_0a1431590805row1_col0\" class=\"data row1 col0\" >0.153846</td>\n",
       "            </tr>\n",
       "            <tr>\n",
       "                        <th id=\"T_e7be5d08_b1f6_11ea_a223_0a1431590805level0_row2\" class=\"row_heading level0 row2\" >(3.893, 5.13]</th>\n",
       "                        <td id=\"T_e7be5d08_b1f6_11ea_a223_0a1431590805row2_col0\" class=\"data row2 col0\" >0.076923</td>\n",
       "            </tr>\n",
       "            <tr>\n",
       "                        <th id=\"T_e7be5d08_b1f6_11ea_a223_0a1431590805level0_row3\" class=\"row_heading level0 row3\" >(2.657, 3.893]</th>\n",
       "                        <td id=\"T_e7be5d08_b1f6_11ea_a223_0a1431590805row3_col0\" class=\"data row3 col0\" >0.000000</td>\n",
       "            </tr>\n",
       "    </tbody></table>"
      ],
      "text/plain": [
       "<pandas.io.formats.style.Styler at 0x7f5e10336630>"
      ]
     },
     "execution_count": 18,
     "metadata": {},
     "output_type": "execute_result"
    },
    {
     "data": {
      "image/png": "[encoded data removed]",
      "text/plain": [
       "<Figure size 432x432 with 1 Axes>"
      ]
     },
     "metadata": {},
     "output_type": "display_data"
    }
   ],
   "source": [
    "error_metric_name = \"avg_wmape\"\n",
    "compare_across_ts_pie(\n",
    "    error_metric_name=error_metric_name, \n",
    "    item_level_metrics_df=item_level_metrics_df, \n",
    "    bins=4,\n",
    "    figsize=(6, 6), \n",
    "    fontsize=12,\n",
    ")"
   ]
  },
  {
   "cell_type": "code",
   "execution_count": 19,
   "metadata": {},
   "outputs": [
    {
     "data": {
      "image/png": "[encoded data removed]",
      "text/plain": [
       "<Figure size 720x288 with 1 Axes>"
      ]
     },
     "metadata": {
      "needs_background": "light"
     },
     "output_type": "display_data"
    }
   ],
   "source": [
    "compare_across_ts_bar(\n",
    "    error_metric_name=error_metric_name, \n",
    "    item_level_metrics_df=item_level_metrics_df, \n",
    "    figsize=(10, 4), \n",
    "    error_metric_threshold=3\n",
    ")"
   ]
  },
  {
   "cell_type": "markdown",
   "metadata": {},
   "source": [
    "### 6. Comparison at TS Store-Id level, [17, 19]"
   ]
  },
  {
   "cell_type": "markdown",
   "metadata": {},
   "source": [
    "### Analyze Exp-Name:Dag-Id, `\"test_deepAR\" : \"dag_id_1\"`"
   ]
  },
  {
   "cell_type": "code",
   "execution_count": 20,
   "metadata": {},
   "outputs": [
    {
     "data": {
      "text/html": [
       "<div>\n",
       "<style scoped>\n",
       "    .dataframe tbody tr th:only-of-type {\n",
       "        vertical-align: middle;\n",
       "    }\n",
       "\n",
       "    .dataframe tbody tr th {\n",
       "        vertical-align: top;\n",
       "    }\n",
       "\n",
       "    .dataframe thead th {\n",
       "        text-align: right;\n",
       "    }\n",
       "</style>\n",
       "<table border=\"1\" class=\"dataframe\">\n",
       "  <thead>\n",
       "    <tr style=\"text-align: right;\">\n",
       "      <th></th>\n",
       "      <th>exp_name</th>\n",
       "      <th>run_name</th>\n",
       "      <th>dag_id</th>\n",
       "      <th>last_train_date</th>\n",
       "      <th>model_date</th>\n",
       "      <th>prediction_length</th>\n",
       "      <th>avg_mad</th>\n",
       "      <th>avg_mean_dev</th>\n",
       "      <th>avg_wmape</th>\n",
       "      <th>model_uri</th>\n",
       "      <th>score_artifact_uri</th>\n",
       "      <th>metrics_uri</th>\n",
       "      <th>error_ts_uri</th>\n",
       "      <th>forecast_end_date</th>\n",
       "      <th>exp_name_dag_id</th>\n",
       "    </tr>\n",
       "  </thead>\n",
       "  <tbody>\n",
       "    <tr>\n",
       "      <th>0</th>\n",
       "      <td>test_deepAR</td>\n",
       "      <td>test_deepAR--num_transactions</td>\n",
       "      <td>dag_id_1</td>\n",
       "      <td>1752-06-23 00:00:00</td>\n",
       "      <td>1752-06-24</td>\n",
       "      <td>14</td>\n",
       "      <td>3270.549143</td>\n",
       "      <td>3271.496446</td>\n",
       "      <td>1.165686</td>\n",
       "      <td>s3://tiger-mle-shipping-forecasting/mlflow/mlf...</td>\n",
       "      <td>s3://tiger-mle-shipping-forecasting/outputs/fo...</td>\n",
       "      <td>s3://tiger-mle-shipping-forecasting/mlflow/mlf...</td>\n",
       "      <td>s3://tiger-mle-shipping-forecasting/mlflow/mlf...</td>\n",
       "      <td>1752-07-08</td>\n",
       "      <td>test_deepAR,\\ndag_id_1</td>\n",
       "    </tr>\n",
       "  </tbody>\n",
       "</table>\n",
       "</div>"
      ],
      "text/plain": [
       "      exp_name                       run_name    dag_id      last_train_date  \\\n",
       "0  test_deepAR  test_deepAR--num_transactions  dag_id_1  1752-06-23 00:00:00   \n",
       "\n",
       "  model_date prediction_length      avg_mad  avg_mean_dev  avg_wmape  \\\n",
       "0 1752-06-24                14  3270.549143   3271.496446   1.165686   \n",
       "\n",
       "                                           model_uri  \\\n",
       "0  s3://tiger-mle-shipping-forecasting/mlflow/mlf...   \n",
       "\n",
       "                                  score_artifact_uri  \\\n",
       "0  s3://tiger-mle-shipping-forecasting/outputs/fo...   \n",
       "\n",
       "                                         metrics_uri  \\\n",
       "0  s3://tiger-mle-shipping-forecasting/mlflow/mlf...   \n",
       "\n",
       "                                        error_ts_uri forecast_end_date  \\\n",
       "0  s3://tiger-mle-shipping-forecasting/mlflow/mlf...        1752-07-08   \n",
       "\n",
       "          exp_name_dag_id  \n",
       "0  test_deepAR,\\ndag_id_1  "
      ]
     },
     "execution_count": 20,
     "metadata": {},
     "output_type": "execute_result"
    }
   ],
   "source": [
    "final_df_list"
   ]
  },
  {
   "cell_type": "code",
   "execution_count": 21,
   "metadata": {},
   "outputs": [],
   "source": [
    "date_item_level_metrics_df = get_final_date_item_merged_df(\n",
    "    exp_dag_list = {\n",
    "        \"test_deepAR\" : \"dag_id_1\",\n",
    "    }, \n",
    "    ts_ids=[17, 19], \n",
    "    final_df_list=final_df_list\n",
    ")\n",
    "date_item_level_metrics_df = date_item_level_metrics_df[[\"exp_name\", \"dag_id\", \"item_id\", \"busidaydt\", \"actual_values\", \"yhat\"]]"
   ]
  },
  {
   "cell_type": "code",
   "execution_count": 22,
   "metadata": {},
   "outputs": [],
   "source": [
    "date_item_level_metrics_melt_df = get_final_date_item_merged_melted_df(\n",
    "    date_item_level_metrics_df=date_item_level_metrics_df\n",
    ")"
   ]
  },
  {
   "cell_type": "markdown",
   "metadata": {},
   "source": [
    "#### 6.1. Id, 17 analysis"
   ]
  },
  {
   "cell_type": "code",
   "execution_count": 28,
   "metadata": {},
   "outputs": [
    {
     "data": {
      "image/png": "[encoded data removed]",
      "text/plain": [
       "<Figure size 1440x720 with 1 Axes>"
      ]
     },
     "metadata": {
      "needs_background": "light"
     },
     "output_type": "display_data"
    }
   ],
   "source": [
    "compare_actual_forecast_time_period(\n",
    "    date_item_level_metrics_melt_df=date_item_level_metrics_melt_df, \n",
    "    item_id=17, \n",
    "    figsize=(20, 10),\n",
    "    x_rotation=30\n",
    ")"
   ]
  },
  {
   "cell_type": "code",
   "execution_count": 29,
   "metadata": {},
   "outputs": [
    {
     "data": {
      "text/html": [
       "<div>\n",
       "<style scoped>\n",
       "    .dataframe tbody tr th:only-of-type {\n",
       "        vertical-align: middle;\n",
       "    }\n",
       "\n",
       "    .dataframe tbody tr th {\n",
       "        vertical-align: top;\n",
       "    }\n",
       "\n",
       "    .dataframe thead th {\n",
       "        text-align: right;\n",
       "    }\n",
       "</style>\n",
       "<table border=\"1\" class=\"dataframe\">\n",
       "  <thead>\n",
       "    <tr style=\"text-align: right;\">\n",
       "      <th></th>\n",
       "      <th>exp_name</th>\n",
       "      <th>dag_id</th>\n",
       "      <th>item_id</th>\n",
       "      <th>busidaydt</th>\n",
       "      <th>actual_values</th>\n",
       "      <th>yhat</th>\n",
       "    </tr>\n",
       "  </thead>\n",
       "  <tbody>\n",
       "    <tr>\n",
       "      <th>0</th>\n",
       "      <td>test_deepAR</td>\n",
       "      <td>dag_id_1</td>\n",
       "      <td>17</td>\n",
       "      <td>1752-06-24</td>\n",
       "      <td>3826.4</td>\n",
       "      <td>11739.083</td>\n",
       "    </tr>\n",
       "    <tr>\n",
       "      <th>1</th>\n",
       "      <td>test_deepAR</td>\n",
       "      <td>dag_id_1</td>\n",
       "      <td>17</td>\n",
       "      <td>1752-06-25</td>\n",
       "      <td>3801.7</td>\n",
       "      <td>11373.877</td>\n",
       "    </tr>\n",
       "    <tr>\n",
       "      <th>2</th>\n",
       "      <td>test_deepAR</td>\n",
       "      <td>dag_id_1</td>\n",
       "      <td>17</td>\n",
       "      <td>1752-06-26</td>\n",
       "      <td>3824.6</td>\n",
       "      <td>13873.721</td>\n",
       "    </tr>\n",
       "    <tr>\n",
       "      <th>3</th>\n",
       "      <td>test_deepAR</td>\n",
       "      <td>dag_id_1</td>\n",
       "      <td>17</td>\n",
       "      <td>1752-06-27</td>\n",
       "      <td>3792.8</td>\n",
       "      <td>13460.706</td>\n",
       "    </tr>\n",
       "    <tr>\n",
       "      <th>4</th>\n",
       "      <td>test_deepAR</td>\n",
       "      <td>dag_id_1</td>\n",
       "      <td>17</td>\n",
       "      <td>1752-06-28</td>\n",
       "      <td>3773.6</td>\n",
       "      <td>10778.076</td>\n",
       "    </tr>\n",
       "    <tr>\n",
       "      <th>5</th>\n",
       "      <td>test_deepAR</td>\n",
       "      <td>dag_id_1</td>\n",
       "      <td>17</td>\n",
       "      <td>1752-06-29</td>\n",
       "      <td>3790.2</td>\n",
       "      <td>12265.859</td>\n",
       "    </tr>\n",
       "    <tr>\n",
       "      <th>6</th>\n",
       "      <td>test_deepAR</td>\n",
       "      <td>dag_id_1</td>\n",
       "      <td>17</td>\n",
       "      <td>1752-06-30</td>\n",
       "      <td>3794.2</td>\n",
       "      <td>12021.264</td>\n",
       "    </tr>\n",
       "    <tr>\n",
       "      <th>7</th>\n",
       "      <td>test_deepAR</td>\n",
       "      <td>dag_id_1</td>\n",
       "      <td>17</td>\n",
       "      <td>1752-07-01</td>\n",
       "      <td>3776.5</td>\n",
       "      <td>11658.764</td>\n",
       "    </tr>\n",
       "    <tr>\n",
       "      <th>8</th>\n",
       "      <td>test_deepAR</td>\n",
       "      <td>dag_id_1</td>\n",
       "      <td>17</td>\n",
       "      <td>1752-07-02</td>\n",
       "      <td>3757.8</td>\n",
       "      <td>12529.131</td>\n",
       "    </tr>\n",
       "    <tr>\n",
       "      <th>9</th>\n",
       "      <td>test_deepAR</td>\n",
       "      <td>dag_id_1</td>\n",
       "      <td>17</td>\n",
       "      <td>1752-07-03</td>\n",
       "      <td>3778.4</td>\n",
       "      <td>10216.014</td>\n",
       "    </tr>\n",
       "    <tr>\n",
       "      <th>10</th>\n",
       "      <td>test_deepAR</td>\n",
       "      <td>dag_id_1</td>\n",
       "      <td>17</td>\n",
       "      <td>1752-07-04</td>\n",
       "      <td>3796.2</td>\n",
       "      <td>12491.975</td>\n",
       "    </tr>\n",
       "    <tr>\n",
       "      <th>11</th>\n",
       "      <td>test_deepAR</td>\n",
       "      <td>dag_id_1</td>\n",
       "      <td>17</td>\n",
       "      <td>1752-07-05</td>\n",
       "      <td>3803.4</td>\n",
       "      <td>10425.096</td>\n",
       "    </tr>\n",
       "    <tr>\n",
       "      <th>12</th>\n",
       "      <td>test_deepAR</td>\n",
       "      <td>dag_id_1</td>\n",
       "      <td>17</td>\n",
       "      <td>1752-07-06</td>\n",
       "      <td>3815.4</td>\n",
       "      <td>9975.176</td>\n",
       "    </tr>\n",
       "    <tr>\n",
       "      <th>13</th>\n",
       "      <td>test_deepAR</td>\n",
       "      <td>dag_id_1</td>\n",
       "      <td>17</td>\n",
       "      <td>1752-07-07</td>\n",
       "      <td>3849.5</td>\n",
       "      <td>10671.041</td>\n",
       "    </tr>\n",
       "  </tbody>\n",
       "</table>\n",
       "</div>"
      ],
      "text/plain": [
       "       exp_name    dag_id  item_id   busidaydt  actual_values       yhat\n",
       "0   test_deepAR  dag_id_1       17  1752-06-24         3826.4  11739.083\n",
       "1   test_deepAR  dag_id_1       17  1752-06-25         3801.7  11373.877\n",
       "2   test_deepAR  dag_id_1       17  1752-06-26         3824.6  13873.721\n",
       "3   test_deepAR  dag_id_1       17  1752-06-27         3792.8  13460.706\n",
       "4   test_deepAR  dag_id_1       17  1752-06-28         3773.6  10778.076\n",
       "5   test_deepAR  dag_id_1       17  1752-06-29         3790.2  12265.859\n",
       "6   test_deepAR  dag_id_1       17  1752-06-30         3794.2  12021.264\n",
       "7   test_deepAR  dag_id_1       17  1752-07-01         3776.5  11658.764\n",
       "8   test_deepAR  dag_id_1       17  1752-07-02         3757.8  12529.131\n",
       "9   test_deepAR  dag_id_1       17  1752-07-03         3778.4  10216.014\n",
       "10  test_deepAR  dag_id_1       17  1752-07-04         3796.2  12491.975\n",
       "11  test_deepAR  dag_id_1       17  1752-07-05         3803.4  10425.096\n",
       "12  test_deepAR  dag_id_1       17  1752-07-06         3815.4   9975.176\n",
       "13  test_deepAR  dag_id_1       17  1752-07-07         3849.5  10671.041"
      ]
     },
     "execution_count": 29,
     "metadata": {},
     "output_type": "execute_result"
    }
   ],
   "source": [
    "filter_print_ts_for_items(\n",
    "    date_item_level_metrics_df=date_item_level_metrics_df, \n",
    "    item_id=17, \n",
    "    date_value=\"1752-06-12\"\n",
    ")"
   ]
  },
  {
   "cell_type": "markdown",
   "metadata": {},
   "source": [
    "#### 6.2. Id, 19 analysis"
   ]
  },
  {
   "cell_type": "code",
   "execution_count": 30,
   "metadata": {},
   "outputs": [
    {
     "data": {
      "image/png": "[encoded data removed]",
      "text/plain": [
       "<Figure size 1440x720 with 1 Axes>"
      ]
     },
     "metadata": {
      "needs_background": "light"
     },
     "output_type": "display_data"
    }
   ],
   "source": [
    "compare_actual_forecast_time_period(\n",
    "    date_item_level_metrics_melt_df=date_item_level_metrics_melt_df, \n",
    "    item_id=19, \n",
    "    figsize=(20, 10),\n",
    "    x_rotation=30\n",
    ")"
   ]
  },
  {
   "cell_type": "code",
   "execution_count": 31,
   "metadata": {},
   "outputs": [
    {
     "data": {
      "text/html": [
       "<div>\n",
       "<style scoped>\n",
       "    .dataframe tbody tr th:only-of-type {\n",
       "        vertical-align: middle;\n",
       "    }\n",
       "\n",
       "    .dataframe tbody tr th {\n",
       "        vertical-align: top;\n",
       "    }\n",
       "\n",
       "    .dataframe thead th {\n",
       "        text-align: right;\n",
       "    }\n",
       "</style>\n",
       "<table border=\"1\" class=\"dataframe\">\n",
       "  <thead>\n",
       "    <tr style=\"text-align: right;\">\n",
       "      <th></th>\n",
       "      <th>exp_name</th>\n",
       "      <th>dag_id</th>\n",
       "      <th>item_id</th>\n",
       "      <th>busidaydt</th>\n",
       "      <th>actual_values</th>\n",
       "      <th>yhat</th>\n",
       "    </tr>\n",
       "  </thead>\n",
       "  <tbody>\n",
       "    <tr>\n",
       "      <th>0</th>\n",
       "      <td>test_deepAR</td>\n",
       "      <td>dag_id_1</td>\n",
       "      <td>19</td>\n",
       "      <td>1752-06-24</td>\n",
       "      <td>1777.5</td>\n",
       "      <td>12024.891</td>\n",
       "    </tr>\n",
       "    <tr>\n",
       "      <th>1</th>\n",
       "      <td>test_deepAR</td>\n",
       "      <td>dag_id_1</td>\n",
       "      <td>19</td>\n",
       "      <td>1752-06-25</td>\n",
       "      <td>1771.5</td>\n",
       "      <td>10800.389</td>\n",
       "    </tr>\n",
       "    <tr>\n",
       "      <th>2</th>\n",
       "      <td>test_deepAR</td>\n",
       "      <td>dag_id_1</td>\n",
       "      <td>19</td>\n",
       "      <td>1752-06-26</td>\n",
       "      <td>1785.8</td>\n",
       "      <td>10809.029</td>\n",
       "    </tr>\n",
       "    <tr>\n",
       "      <th>3</th>\n",
       "      <td>test_deepAR</td>\n",
       "      <td>dag_id_1</td>\n",
       "      <td>19</td>\n",
       "      <td>1752-06-27</td>\n",
       "      <td>1789.8</td>\n",
       "      <td>9934.528</td>\n",
       "    </tr>\n",
       "    <tr>\n",
       "      <th>4</th>\n",
       "      <td>test_deepAR</td>\n",
       "      <td>dag_id_1</td>\n",
       "      <td>19</td>\n",
       "      <td>1752-06-28</td>\n",
       "      <td>1810.4</td>\n",
       "      <td>11277.678</td>\n",
       "    </tr>\n",
       "    <tr>\n",
       "      <th>5</th>\n",
       "      <td>test_deepAR</td>\n",
       "      <td>dag_id_1</td>\n",
       "      <td>19</td>\n",
       "      <td>1752-06-29</td>\n",
       "      <td>1812.8</td>\n",
       "      <td>11030.635</td>\n",
       "    </tr>\n",
       "    <tr>\n",
       "      <th>6</th>\n",
       "      <td>test_deepAR</td>\n",
       "      <td>dag_id_1</td>\n",
       "      <td>19</td>\n",
       "      <td>1752-06-30</td>\n",
       "      <td>1866.0</td>\n",
       "      <td>13129.846</td>\n",
       "    </tr>\n",
       "    <tr>\n",
       "      <th>7</th>\n",
       "      <td>test_deepAR</td>\n",
       "      <td>dag_id_1</td>\n",
       "      <td>19</td>\n",
       "      <td>1752-07-01</td>\n",
       "      <td>1892.3</td>\n",
       "      <td>12786.114</td>\n",
       "    </tr>\n",
       "    <tr>\n",
       "      <th>8</th>\n",
       "      <td>test_deepAR</td>\n",
       "      <td>dag_id_1</td>\n",
       "      <td>19</td>\n",
       "      <td>1752-07-02</td>\n",
       "      <td>1895.8</td>\n",
       "      <td>11094.160</td>\n",
       "    </tr>\n",
       "    <tr>\n",
       "      <th>9</th>\n",
       "      <td>test_deepAR</td>\n",
       "      <td>dag_id_1</td>\n",
       "      <td>19</td>\n",
       "      <td>1752-07-03</td>\n",
       "      <td>1906.9</td>\n",
       "      <td>11533.038</td>\n",
       "    </tr>\n",
       "    <tr>\n",
       "      <th>10</th>\n",
       "      <td>test_deepAR</td>\n",
       "      <td>dag_id_1</td>\n",
       "      <td>19</td>\n",
       "      <td>1752-07-04</td>\n",
       "      <td>1908.3</td>\n",
       "      <td>11407.441</td>\n",
       "    </tr>\n",
       "    <tr>\n",
       "      <th>11</th>\n",
       "      <td>test_deepAR</td>\n",
       "      <td>dag_id_1</td>\n",
       "      <td>19</td>\n",
       "      <td>1752-07-05</td>\n",
       "      <td>1871.6</td>\n",
       "      <td>12230.887</td>\n",
       "    </tr>\n",
       "    <tr>\n",
       "      <th>12</th>\n",
       "      <td>test_deepAR</td>\n",
       "      <td>dag_id_1</td>\n",
       "      <td>19</td>\n",
       "      <td>1752-07-06</td>\n",
       "      <td>1844.1</td>\n",
       "      <td>9161.916</td>\n",
       "    </tr>\n",
       "    <tr>\n",
       "      <th>13</th>\n",
       "      <td>test_deepAR</td>\n",
       "      <td>dag_id_1</td>\n",
       "      <td>19</td>\n",
       "      <td>1752-07-07</td>\n",
       "      <td>1858.0</td>\n",
       "      <td>10866.574</td>\n",
       "    </tr>\n",
       "  </tbody>\n",
       "</table>\n",
       "</div>"
      ],
      "text/plain": [
       "       exp_name    dag_id  item_id   busidaydt  actual_values       yhat\n",
       "0   test_deepAR  dag_id_1       19  1752-06-24         1777.5  12024.891\n",
       "1   test_deepAR  dag_id_1       19  1752-06-25         1771.5  10800.389\n",
       "2   test_deepAR  dag_id_1       19  1752-06-26         1785.8  10809.029\n",
       "3   test_deepAR  dag_id_1       19  1752-06-27         1789.8   9934.528\n",
       "4   test_deepAR  dag_id_1       19  1752-06-28         1810.4  11277.678\n",
       "5   test_deepAR  dag_id_1       19  1752-06-29         1812.8  11030.635\n",
       "6   test_deepAR  dag_id_1       19  1752-06-30         1866.0  13129.846\n",
       "7   test_deepAR  dag_id_1       19  1752-07-01         1892.3  12786.114\n",
       "8   test_deepAR  dag_id_1       19  1752-07-02         1895.8  11094.160\n",
       "9   test_deepAR  dag_id_1       19  1752-07-03         1906.9  11533.038\n",
       "10  test_deepAR  dag_id_1       19  1752-07-04         1908.3  11407.441\n",
       "11  test_deepAR  dag_id_1       19  1752-07-05         1871.6  12230.887\n",
       "12  test_deepAR  dag_id_1       19  1752-07-06         1844.1   9161.916\n",
       "13  test_deepAR  dag_id_1       19  1752-07-07         1858.0  10866.574"
      ]
     },
     "execution_count": 31,
     "metadata": {},
     "output_type": "execute_result"
    }
   ],
   "source": [
    "filter_print_ts_for_items(\n",
    "    date_item_level_metrics_df=date_item_level_metrics_df, \n",
    "    item_id=19, \n",
    "    date_value=\"1752-06-12\"\n",
    ")"
   ]
  },
  {
   "cell_type": "markdown",
   "metadata": {},
   "source": [
    "### 7. TS which are done scored. \n",
    "Reasons could be\n",
    "- Test values are not available for the Forecast-Period\n",
    "- Test values have \"nan\"s\n",
    "- Sum(test values) == 0, for the entire Forecast-Period"
   ]
  },
  {
   "cell_type": "code",
   "execution_count": 32,
   "metadata": {},
   "outputs": [],
   "source": [
    "bk_1_error_df = get_error_ts_df(\n",
    "    exp_dag={\"test_deepAR\" : \"dag_id_1\"}, \n",
    "    final_df_list=final_df_list\n",
    ")"
   ]
  },
  {
   "cell_type": "markdown",
   "metadata": {},
   "source": [
    "### 7.1. TS_Error for \"bk_full_a_1\""
   ]
  },
  {
   "cell_type": "code",
   "execution_count": 33,
   "metadata": {},
   "outputs": [
    {
     "data": {
      "text/html": [
       "<div>\n",
       "<style scoped>\n",
       "    .dataframe tbody tr th:only-of-type {\n",
       "        vertical-align: middle;\n",
       "    }\n",
       "\n",
       "    .dataframe tbody tr th {\n",
       "        vertical-align: top;\n",
       "    }\n",
       "\n",
       "    .dataframe thead th {\n",
       "        text-align: right;\n",
       "    }\n",
       "</style>\n",
       "<table border=\"1\" class=\"dataframe\">\n",
       "  <thead>\n",
       "    <tr style=\"text-align: right;\">\n",
       "      <th></th>\n",
       "      <th>0</th>\n",
       "      <th>1</th>\n",
       "      <th>2</th>\n",
       "      <th>3</th>\n",
       "      <th>4</th>\n",
       "      <th>5</th>\n",
       "      <th>6</th>\n",
       "      <th>7</th>\n",
       "      <th>8</th>\n",
       "      <th>9</th>\n",
       "      <th>10</th>\n",
       "      <th>11</th>\n",
       "    </tr>\n",
       "  </thead>\n",
       "  <tbody>\n",
       "    <tr>\n",
       "      <th>Item_id</th>\n",
       "      <td>3</td>\n",
       "      <td>5</td>\n",
       "      <td>23</td>\n",
       "      <td>25</td>\n",
       "      <td>27</td>\n",
       "      <td>37</td>\n",
       "      <td>39</td>\n",
       "      <td>41</td>\n",
       "      <td>43</td>\n",
       "      <td>45</td>\n",
       "      <td>47</td>\n",
       "      <td>49</td>\n",
       "    </tr>\n",
       "  </tbody>\n",
       "</table>\n",
       "</div>"
      ],
      "text/plain": [
       "         0  1   2   3   4   5   6   7   8   9  10  11\n",
       "Item_id  3  5  23  25  27  37  39  41  43  45  47  49"
      ]
     },
     "execution_count": 33,
     "metadata": {},
     "output_type": "execute_result"
    }
   ],
   "source": [
    "bk_1_error_df.T"
   ]
  },
  {
   "cell_type": "code",
   "execution_count": null,
   "metadata": {},
   "outputs": [],
   "source": []
  },
  {
   "cell_type": "markdown",
   "metadata": {},
   "source": [
    "### Analyze Exp-Name:Dag-Id, `\"test_deepAR\" : \"dag_id_1\"`"
   ]
  },
  {
   "cell_type": "code",
   "execution_count": 35,
   "metadata": {},
   "outputs": [],
   "source": [
    "date_item_level_metrics_df = get_final_date_item_merged_df(\n",
    "    exp_dag_list = {\n",
    "        \"test_deepAR\" : \"dag_id_1\",\n",
    "    }, \n",
    "    ts_ids=[17, 19], \n",
    "    final_df_list=final_df_list\n",
    ")\n",
    "date_item_level_metrics_df = date_item_level_metrics_df[[\"exp_name\", \"dag_id\", \"item_id\", \"busidaydt\", \"actual_values\", \"yhat\"]]"
   ]
  },
  {
   "cell_type": "code",
   "execution_count": 36,
   "metadata": {},
   "outputs": [],
   "source": [
    "date_item_level_metrics_melt_df = get_final_date_item_merged_melted_df(\n",
    "    date_item_level_metrics_df=date_item_level_metrics_df\n",
    ")"
   ]
  },
  {
   "cell_type": "markdown",
   "metadata": {},
   "source": [
    "#### 6.1. Id, 17 analysis"
   ]
  },
  {
   "cell_type": "code",
   "execution_count": 37,
   "metadata": {},
   "outputs": [
    {
     "data": {
      "image/png": "[encoded data removed]",
      "text/plain": [
       "<Figure size 1440x720 with 1 Axes>"
      ]
     },
     "metadata": {
      "needs_background": "light"
     },
     "output_type": "display_data"
    }
   ],
   "source": [
    "compare_actual_forecast_time_period(\n",
    "    date_item_level_metrics_melt_df=date_item_level_metrics_melt_df, \n",
    "    item_id=17, \n",
    "    figsize=(20, 10),\n",
    "    x_rotation=30\n",
    ")"
   ]
  },
  {
   "cell_type": "code",
   "execution_count": 38,
   "metadata": {},
   "outputs": [
    {
     "data": {
      "text/html": [
       "<div>\n",
       "<style scoped>\n",
       "    .dataframe tbody tr th:only-of-type {\n",
       "        vertical-align: middle;\n",
       "    }\n",
       "\n",
       "    .dataframe tbody tr th {\n",
       "        vertical-align: top;\n",
       "    }\n",
       "\n",
       "    .dataframe thead th {\n",
       "        text-align: right;\n",
       "    }\n",
       "</style>\n",
       "<table border=\"1\" class=\"dataframe\">\n",
       "  <thead>\n",
       "    <tr style=\"text-align: right;\">\n",
       "      <th></th>\n",
       "      <th>exp_name</th>\n",
       "      <th>dag_id</th>\n",
       "      <th>item_id</th>\n",
       "      <th>busidaydt</th>\n",
       "      <th>actual_values</th>\n",
       "      <th>yhat</th>\n",
       "    </tr>\n",
       "  </thead>\n",
       "  <tbody>\n",
       "    <tr>\n",
       "      <th>0</th>\n",
       "      <td>test_deepAR</td>\n",
       "      <td>dag_id_1</td>\n",
       "      <td>17</td>\n",
       "      <td>1752-06-24</td>\n",
       "      <td>3826.4</td>\n",
       "      <td>11739.083</td>\n",
       "    </tr>\n",
       "    <tr>\n",
       "      <th>1</th>\n",
       "      <td>test_deepAR</td>\n",
       "      <td>dag_id_1</td>\n",
       "      <td>17</td>\n",
       "      <td>1752-06-25</td>\n",
       "      <td>3801.7</td>\n",
       "      <td>11373.877</td>\n",
       "    </tr>\n",
       "    <tr>\n",
       "      <th>2</th>\n",
       "      <td>test_deepAR</td>\n",
       "      <td>dag_id_1</td>\n",
       "      <td>17</td>\n",
       "      <td>1752-06-26</td>\n",
       "      <td>3824.6</td>\n",
       "      <td>13873.721</td>\n",
       "    </tr>\n",
       "    <tr>\n",
       "      <th>3</th>\n",
       "      <td>test_deepAR</td>\n",
       "      <td>dag_id_1</td>\n",
       "      <td>17</td>\n",
       "      <td>1752-06-27</td>\n",
       "      <td>3792.8</td>\n",
       "      <td>13460.706</td>\n",
       "    </tr>\n",
       "    <tr>\n",
       "      <th>4</th>\n",
       "      <td>test_deepAR</td>\n",
       "      <td>dag_id_1</td>\n",
       "      <td>17</td>\n",
       "      <td>1752-06-28</td>\n",
       "      <td>3773.6</td>\n",
       "      <td>10778.076</td>\n",
       "    </tr>\n",
       "    <tr>\n",
       "      <th>5</th>\n",
       "      <td>test_deepAR</td>\n",
       "      <td>dag_id_1</td>\n",
       "      <td>17</td>\n",
       "      <td>1752-06-29</td>\n",
       "      <td>3790.2</td>\n",
       "      <td>12265.859</td>\n",
       "    </tr>\n",
       "    <tr>\n",
       "      <th>6</th>\n",
       "      <td>test_deepAR</td>\n",
       "      <td>dag_id_1</td>\n",
       "      <td>17</td>\n",
       "      <td>1752-06-30</td>\n",
       "      <td>3794.2</td>\n",
       "      <td>12021.264</td>\n",
       "    </tr>\n",
       "    <tr>\n",
       "      <th>7</th>\n",
       "      <td>test_deepAR</td>\n",
       "      <td>dag_id_1</td>\n",
       "      <td>17</td>\n",
       "      <td>1752-07-01</td>\n",
       "      <td>3776.5</td>\n",
       "      <td>11658.764</td>\n",
       "    </tr>\n",
       "    <tr>\n",
       "      <th>8</th>\n",
       "      <td>test_deepAR</td>\n",
       "      <td>dag_id_1</td>\n",
       "      <td>17</td>\n",
       "      <td>1752-07-02</td>\n",
       "      <td>3757.8</td>\n",
       "      <td>12529.131</td>\n",
       "    </tr>\n",
       "    <tr>\n",
       "      <th>9</th>\n",
       "      <td>test_deepAR</td>\n",
       "      <td>dag_id_1</td>\n",
       "      <td>17</td>\n",
       "      <td>1752-07-03</td>\n",
       "      <td>3778.4</td>\n",
       "      <td>10216.014</td>\n",
       "    </tr>\n",
       "    <tr>\n",
       "      <th>10</th>\n",
       "      <td>test_deepAR</td>\n",
       "      <td>dag_id_1</td>\n",
       "      <td>17</td>\n",
       "      <td>1752-07-04</td>\n",
       "      <td>3796.2</td>\n",
       "      <td>12491.975</td>\n",
       "    </tr>\n",
       "    <tr>\n",
       "      <th>11</th>\n",
       "      <td>test_deepAR</td>\n",
       "      <td>dag_id_1</td>\n",
       "      <td>17</td>\n",
       "      <td>1752-07-05</td>\n",
       "      <td>3803.4</td>\n",
       "      <td>10425.096</td>\n",
       "    </tr>\n",
       "    <tr>\n",
       "      <th>12</th>\n",
       "      <td>test_deepAR</td>\n",
       "      <td>dag_id_1</td>\n",
       "      <td>17</td>\n",
       "      <td>1752-07-06</td>\n",
       "      <td>3815.4</td>\n",
       "      <td>9975.176</td>\n",
       "    </tr>\n",
       "    <tr>\n",
       "      <th>13</th>\n",
       "      <td>test_deepAR</td>\n",
       "      <td>dag_id_1</td>\n",
       "      <td>17</td>\n",
       "      <td>1752-07-07</td>\n",
       "      <td>3849.5</td>\n",
       "      <td>10671.041</td>\n",
       "    </tr>\n",
       "  </tbody>\n",
       "</table>\n",
       "</div>"
      ],
      "text/plain": [
       "       exp_name    dag_id  item_id   busidaydt  actual_values       yhat\n",
       "0   test_deepAR  dag_id_1       17  1752-06-24         3826.4  11739.083\n",
       "1   test_deepAR  dag_id_1       17  1752-06-25         3801.7  11373.877\n",
       "2   test_deepAR  dag_id_1       17  1752-06-26         3824.6  13873.721\n",
       "3   test_deepAR  dag_id_1       17  1752-06-27         3792.8  13460.706\n",
       "4   test_deepAR  dag_id_1       17  1752-06-28         3773.6  10778.076\n",
       "5   test_deepAR  dag_id_1       17  1752-06-29         3790.2  12265.859\n",
       "6   test_deepAR  dag_id_1       17  1752-06-30         3794.2  12021.264\n",
       "7   test_deepAR  dag_id_1       17  1752-07-01         3776.5  11658.764\n",
       "8   test_deepAR  dag_id_1       17  1752-07-02         3757.8  12529.131\n",
       "9   test_deepAR  dag_id_1       17  1752-07-03         3778.4  10216.014\n",
       "10  test_deepAR  dag_id_1       17  1752-07-04         3796.2  12491.975\n",
       "11  test_deepAR  dag_id_1       17  1752-07-05         3803.4  10425.096\n",
       "12  test_deepAR  dag_id_1       17  1752-07-06         3815.4   9975.176\n",
       "13  test_deepAR  dag_id_1       17  1752-07-07         3849.5  10671.041"
      ]
     },
     "execution_count": 38,
     "metadata": {},
     "output_type": "execute_result"
    }
   ],
   "source": [
    "filter_print_ts_for_items(\n",
    "    date_item_level_metrics_df=date_item_level_metrics_df, \n",
    "    item_id=17, \n",
    "    date_value=\"1752-06-12\"\n",
    ")"
   ]
  },
  {
   "cell_type": "markdown",
   "metadata": {},
   "source": [
    "#### 6.2. Id, 19 analysis"
   ]
  },
  {
   "cell_type": "code",
   "execution_count": 39,
   "metadata": {},
   "outputs": [
    {
     "data": {
      "image/png": "[encoded data removed]",
      "text/plain": [
       "<Figure size 1440x720 with 1 Axes>"
      ]
     },
     "metadata": {
      "needs_background": "light"
     },
     "output_type": "display_data"
    }
   ],
   "source": [
    "compare_actual_forecast_time_period(\n",
    "    date_item_level_metrics_melt_df=date_item_level_metrics_melt_df, \n",
    "    item_id=19, \n",
    "    figsize=(20, 10),\n",
    "    x_rotation=30\n",
    ")"
   ]
  },
  {
   "cell_type": "code",
   "execution_count": 40,
   "metadata": {},
   "outputs": [
    {
     "data": {
      "text/html": [
       "<div>\n",
       "<style scoped>\n",
       "    .dataframe tbody tr th:only-of-type {\n",
       "        vertical-align: middle;\n",
       "    }\n",
       "\n",
       "    .dataframe tbody tr th {\n",
       "        vertical-align: top;\n",
       "    }\n",
       "\n",
       "    .dataframe thead th {\n",
       "        text-align: right;\n",
       "    }\n",
       "</style>\n",
       "<table border=\"1\" class=\"dataframe\">\n",
       "  <thead>\n",
       "    <tr style=\"text-align: right;\">\n",
       "      <th></th>\n",
       "      <th>exp_name</th>\n",
       "      <th>dag_id</th>\n",
       "      <th>item_id</th>\n",
       "      <th>busidaydt</th>\n",
       "      <th>actual_values</th>\n",
       "      <th>yhat</th>\n",
       "    </tr>\n",
       "  </thead>\n",
       "  <tbody>\n",
       "    <tr>\n",
       "      <th>0</th>\n",
       "      <td>test_deepAR</td>\n",
       "      <td>dag_id_1</td>\n",
       "      <td>19</td>\n",
       "      <td>1752-06-24</td>\n",
       "      <td>1777.5</td>\n",
       "      <td>12024.891</td>\n",
       "    </tr>\n",
       "    <tr>\n",
       "      <th>1</th>\n",
       "      <td>test_deepAR</td>\n",
       "      <td>dag_id_1</td>\n",
       "      <td>19</td>\n",
       "      <td>1752-06-25</td>\n",
       "      <td>1771.5</td>\n",
       "      <td>10800.389</td>\n",
       "    </tr>\n",
       "    <tr>\n",
       "      <th>2</th>\n",
       "      <td>test_deepAR</td>\n",
       "      <td>dag_id_1</td>\n",
       "      <td>19</td>\n",
       "      <td>1752-06-26</td>\n",
       "      <td>1785.8</td>\n",
       "      <td>10809.029</td>\n",
       "    </tr>\n",
       "    <tr>\n",
       "      <th>3</th>\n",
       "      <td>test_deepAR</td>\n",
       "      <td>dag_id_1</td>\n",
       "      <td>19</td>\n",
       "      <td>1752-06-27</td>\n",
       "      <td>1789.8</td>\n",
       "      <td>9934.528</td>\n",
       "    </tr>\n",
       "    <tr>\n",
       "      <th>4</th>\n",
       "      <td>test_deepAR</td>\n",
       "      <td>dag_id_1</td>\n",
       "      <td>19</td>\n",
       "      <td>1752-06-28</td>\n",
       "      <td>1810.4</td>\n",
       "      <td>11277.678</td>\n",
       "    </tr>\n",
       "    <tr>\n",
       "      <th>5</th>\n",
       "      <td>test_deepAR</td>\n",
       "      <td>dag_id_1</td>\n",
       "      <td>19</td>\n",
       "      <td>1752-06-29</td>\n",
       "      <td>1812.8</td>\n",
       "      <td>11030.635</td>\n",
       "    </tr>\n",
       "    <tr>\n",
       "      <th>6</th>\n",
       "      <td>test_deepAR</td>\n",
       "      <td>dag_id_1</td>\n",
       "      <td>19</td>\n",
       "      <td>1752-06-30</td>\n",
       "      <td>1866.0</td>\n",
       "      <td>13129.846</td>\n",
       "    </tr>\n",
       "    <tr>\n",
       "      <th>7</th>\n",
       "      <td>test_deepAR</td>\n",
       "      <td>dag_id_1</td>\n",
       "      <td>19</td>\n",
       "      <td>1752-07-01</td>\n",
       "      <td>1892.3</td>\n",
       "      <td>12786.114</td>\n",
       "    </tr>\n",
       "    <tr>\n",
       "      <th>8</th>\n",
       "      <td>test_deepAR</td>\n",
       "      <td>dag_id_1</td>\n",
       "      <td>19</td>\n",
       "      <td>1752-07-02</td>\n",
       "      <td>1895.8</td>\n",
       "      <td>11094.160</td>\n",
       "    </tr>\n",
       "    <tr>\n",
       "      <th>9</th>\n",
       "      <td>test_deepAR</td>\n",
       "      <td>dag_id_1</td>\n",
       "      <td>19</td>\n",
       "      <td>1752-07-03</td>\n",
       "      <td>1906.9</td>\n",
       "      <td>11533.038</td>\n",
       "    </tr>\n",
       "    <tr>\n",
       "      <th>10</th>\n",
       "      <td>test_deepAR</td>\n",
       "      <td>dag_id_1</td>\n",
       "      <td>19</td>\n",
       "      <td>1752-07-04</td>\n",
       "      <td>1908.3</td>\n",
       "      <td>11407.441</td>\n",
       "    </tr>\n",
       "    <tr>\n",
       "      <th>11</th>\n",
       "      <td>test_deepAR</td>\n",
       "      <td>dag_id_1</td>\n",
       "      <td>19</td>\n",
       "      <td>1752-07-05</td>\n",
       "      <td>1871.6</td>\n",
       "      <td>12230.887</td>\n",
       "    </tr>\n",
       "    <tr>\n",
       "      <th>12</th>\n",
       "      <td>test_deepAR</td>\n",
       "      <td>dag_id_1</td>\n",
       "      <td>19</td>\n",
       "      <td>1752-07-06</td>\n",
       "      <td>1844.1</td>\n",
       "      <td>9161.916</td>\n",
       "    </tr>\n",
       "    <tr>\n",
       "      <th>13</th>\n",
       "      <td>test_deepAR</td>\n",
       "      <td>dag_id_1</td>\n",
       "      <td>19</td>\n",
       "      <td>1752-07-07</td>\n",
       "      <td>1858.0</td>\n",
       "      <td>10866.574</td>\n",
       "    </tr>\n",
       "  </tbody>\n",
       "</table>\n",
       "</div>"
      ],
      "text/plain": [
       "       exp_name    dag_id  item_id   busidaydt  actual_values       yhat\n",
       "0   test_deepAR  dag_id_1       19  1752-06-24         1777.5  12024.891\n",
       "1   test_deepAR  dag_id_1       19  1752-06-25         1771.5  10800.389\n",
       "2   test_deepAR  dag_id_1       19  1752-06-26         1785.8  10809.029\n",
       "3   test_deepAR  dag_id_1       19  1752-06-27         1789.8   9934.528\n",
       "4   test_deepAR  dag_id_1       19  1752-06-28         1810.4  11277.678\n",
       "5   test_deepAR  dag_id_1       19  1752-06-29         1812.8  11030.635\n",
       "6   test_deepAR  dag_id_1       19  1752-06-30         1866.0  13129.846\n",
       "7   test_deepAR  dag_id_1       19  1752-07-01         1892.3  12786.114\n",
       "8   test_deepAR  dag_id_1       19  1752-07-02         1895.8  11094.160\n",
       "9   test_deepAR  dag_id_1       19  1752-07-03         1906.9  11533.038\n",
       "10  test_deepAR  dag_id_1       19  1752-07-04         1908.3  11407.441\n",
       "11  test_deepAR  dag_id_1       19  1752-07-05         1871.6  12230.887\n",
       "12  test_deepAR  dag_id_1       19  1752-07-06         1844.1   9161.916\n",
       "13  test_deepAR  dag_id_1       19  1752-07-07         1858.0  10866.574"
      ]
     },
     "execution_count": 40,
     "metadata": {},
     "output_type": "execute_result"
    }
   ],
   "source": [
    "filter_print_ts_for_items(\n",
    "    date_item_level_metrics_df=date_item_level_metrics_df, \n",
    "    item_id=19, \n",
    "    date_value=\"1752-06-12\"\n",
    ")"
   ]
  },
  {
   "cell_type": "markdown",
   "metadata": {},
   "source": [
    "### 7. TS which are done scored. \n",
    "Reasons could be\n",
    "- Test values are not available for the Forecast-Period\n",
    "- Test values have \"nan\"s\n",
    "- Sum(test values) == 0, for the entire Forecast-Period"
   ]
  },
  {
   "cell_type": "code",
   "execution_count": 41,
   "metadata": {},
   "outputs": [],
   "source": [
    "bk_2_error_df = get_error_ts_df(\n",
    "    exp_dag={\"test_deepAR\" : \"dag_id_1\"}, \n",
    "    final_df_list=final_df_list\n",
    ")"
   ]
  },
  {
   "cell_type": "markdown",
   "metadata": {},
   "source": [
    "### 7.1. TS_Error for \"bk_full_a_2\""
   ]
  },
  {
   "cell_type": "code",
   "execution_count": 42,
   "metadata": {},
   "outputs": [
    {
     "data": {
      "text/html": [
       "<div>\n",
       "<style scoped>\n",
       "    .dataframe tbody tr th:only-of-type {\n",
       "        vertical-align: middle;\n",
       "    }\n",
       "\n",
       "    .dataframe tbody tr th {\n",
       "        vertical-align: top;\n",
       "    }\n",
       "\n",
       "    .dataframe thead th {\n",
       "        text-align: right;\n",
       "    }\n",
       "</style>\n",
       "<table border=\"1\" class=\"dataframe\">\n",
       "  <thead>\n",
       "    <tr style=\"text-align: right;\">\n",
       "      <th></th>\n",
       "      <th>0</th>\n",
       "      <th>1</th>\n",
       "      <th>2</th>\n",
       "      <th>3</th>\n",
       "      <th>4</th>\n",
       "      <th>5</th>\n",
       "      <th>6</th>\n",
       "      <th>7</th>\n",
       "      <th>8</th>\n",
       "      <th>9</th>\n",
       "      <th>10</th>\n",
       "      <th>11</th>\n",
       "    </tr>\n",
       "  </thead>\n",
       "  <tbody>\n",
       "    <tr>\n",
       "      <th>Item_id</th>\n",
       "      <td>3</td>\n",
       "      <td>5</td>\n",
       "      <td>23</td>\n",
       "      <td>25</td>\n",
       "      <td>27</td>\n",
       "      <td>37</td>\n",
       "      <td>39</td>\n",
       "      <td>41</td>\n",
       "      <td>43</td>\n",
       "      <td>45</td>\n",
       "      <td>47</td>\n",
       "      <td>49</td>\n",
       "    </tr>\n",
       "  </tbody>\n",
       "</table>\n",
       "</div>"
      ],
      "text/plain": [
       "         0  1   2   3   4   5   6   7   8   9  10  11\n",
       "Item_id  3  5  23  25  27  37  39  41  43  45  47  49"
      ]
     },
     "execution_count": 42,
     "metadata": {},
     "output_type": "execute_result"
    }
   ],
   "source": [
    "bk_2_error_df.T"
   ]
  },
  {
   "cell_type": "code",
   "execution_count": null,
   "metadata": {},
   "outputs": [],
   "source": []
  }
 ],
 "metadata": {
  "kernelspec": {
   "display_name": "ts-dev",
   "language": "python",
   "name": "ts-dev"
  },
  "language_info": {
   "codemirror_mode": {
    "name": "ipython",
    "version": 3
   },
   "file_extension": ".py",
   "mimetype": "text/x-python",
   "name": "python",
   "nbconvert_exporter": "python",
   "pygments_lexer": "ipython3",
   "version": "3.6.10"
  }
 },
 "nbformat": 4,
 "nbformat_minor": 4
}
