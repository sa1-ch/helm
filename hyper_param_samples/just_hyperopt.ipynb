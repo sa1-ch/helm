{
 "cells": [
  {
   "cell_type": "code",
   "execution_count": 1,
   "metadata": {},
   "outputs": [],
   "source": [
    "from hyperopt import Trials, fmin, hp, tpe\n",
    "from hyperopt.pyll.base import scope\n",
    "\n",
    "from data_and_regressor import get_data\n",
    "from sklearn.ensemble import GradientBoostingRegressor\n",
    "import numpy as np\n",
    "\n",
    "X, y, n_features = get_data()\n",
    "from sklearn.model_selection import cross_val_score"
   ]
  },
  {
   "cell_type": "code",
   "execution_count": 2,
   "metadata": {},
   "outputs": [],
   "source": [
    "@scope.define\n",
    "def to_int(x):\n",
    "    return 1 if x==0 else x"
   ]
  },
  {
   "cell_type": "code",
   "execution_count": 3,
   "metadata": {},
   "outputs": [],
   "source": [
    "@scope.define\n",
    "def to_abs(x):\n",
    "    return abs(x)"
   ]
  },
  {
   "cell_type": "code",
   "execution_count": 4,
   "metadata": {},
   "outputs": [],
   "source": [
    "# In some environment hp.randint is not working\n",
    "space = {\n",
    "    \"learning_rate\": scope.to_abs(hp.uniform(\"learning_rate\", 10 ** -5, 1)),\n",
    "    \"max_depth\": scope.to_int(hp.randint(\"max_depth\", 5)),\n",
    "    \"max_features\": scope.to_int(hp.randint(\"max_features\", 13)),\n",
    "    \"min_samples_split\": scope.to_int(hp.randint(\"min_samples_split\", 100)),\n",
    "    \"min_samples_leaf\": scope.to_int(hp.randint(\"min_samples_leaf\", 100)),\n",
    "}"
   ]
  },
  {
   "cell_type": "code",
   "execution_count": 5,
   "metadata": {},
   "outputs": [],
   "source": [
    "def objective(params):\n",
    "    \"\"\"\n",
    "        Function to minimize\n",
    "    \"\"\"\n",
    "    reg = GradientBoostingRegressor(n_estimators=50, random_state=0)\n",
    "    reg.set_params(**params)\n",
    "\n",
    "    loss = -np.mean(\n",
    "        cross_val_score(reg, X, y, cv=5, n_jobs=-1, scoring=\"neg_mean_absolute_error\")\n",
    "    )\n",
    "    \n",
    "    return loss"
   ]
  },
  {
   "cell_type": "code",
   "execution_count": 12,
   "metadata": {},
   "outputs": [
    {
     "name": "stdout",
     "output_type": "stream",
     "text": [
      "100%|██████████| 100/100 [00:04<00:00, 20.96trial/s, best loss: 2.9642919807470163]\n",
      "best: {'learning_rate': 0.3365587196500158, 'max_depth': 4, 'max_features': 9, 'min_samples_leaf': 3, 'min_samples_split': 36}\n",
      "trials:\n"
     ]
    }
   ],
   "source": [
    "trials=Trials()\n",
    "analysis = fmin(objective, space=space, algo=tpe.suggest, max_evals=100, trials=trials, rstate= np.random.RandomState(0))\n",
    "print(\"best:\", analysis)\n",
    "print(\"trials:\")"
   ]
  },
  {
   "cell_type": "code",
   "execution_count": 13,
   "metadata": {},
   "outputs": [
    {
     "data": {
      "text/plain": [
       "{'state': 2,\n",
       " 'tid': 56,\n",
       " 'spec': None,\n",
       " 'result': {'loss': 2.9642919807470163, 'status': 'ok'},\n",
       " 'misc': {'tid': 56,\n",
       "  'cmd': ('domain_attachment', 'FMinIter_Domain'),\n",
       "  'workdir': None,\n",
       "  'idxs': {'learning_rate': [56],\n",
       "   'max_depth': [56],\n",
       "   'max_features': [56],\n",
       "   'min_samples_leaf': [56],\n",
       "   'min_samples_split': [56]},\n",
       "  'vals': {'learning_rate': [0.3365587196500158],\n",
       "   'max_depth': [4],\n",
       "   'max_features': [9],\n",
       "   'min_samples_leaf': [3],\n",
       "   'min_samples_split': [36]}},\n",
       " 'exp_key': None,\n",
       " 'owner': None,\n",
       " 'version': 0,\n",
       " 'book_time': datetime.datetime(2020, 4, 24, 3, 24, 35, 485000),\n",
       " 'refresh_time': datetime.datetime(2020, 4, 24, 3, 24, 35, 554000)}"
      ]
     },
     "execution_count": 13,
     "metadata": {},
     "output_type": "execute_result"
    }
   ],
   "source": [
    "trials.best_trial"
   ]
  },
  {
   "cell_type": "code",
   "execution_count": 14,
   "metadata": {},
   "outputs": [
    {
     "data": {
      "text/plain": [
       "Text(0, 0.5, 'min(x) after n calls')"
      ]
     },
     "execution_count": 14,
     "metadata": {},
     "output_type": "execute_result"
    },
    {
     "data": {
      "image/png": "[encoded data removed]",
      "text/plain": [
       "<Figure size 432x288 with 1 Axes>"
      ]
     },
     "metadata": {
      "needs_background": "light"
     },
     "output_type": "display_data"
    }
   ],
   "source": [
    "import matplotlib.pyplot as plt\n",
    "f, ax = plt.subplots(1)#, figsize=(10,10))\n",
    "xs = [t['tid'] for t in trials.trials]\n",
    "ys = [t['result']['loss'] for t in trials.trials]\n",
    "plt.plot(xs, ys, color='green', marker='o', linestyle='dashed', linewidth=2, markersize=2)\n",
    "\n",
    "ax.set_xlabel('No of calls', fontsize=12)\n",
    "ax.set_ylabel('min(x) after n calls', fontsize=12)"
   ]
  },
  {
   "cell_type": "code",
   "execution_count": null,
   "metadata": {},
   "outputs": [],
   "source": []
  }
 ],
 "metadata": {
  "kernelspec": {
   "display_name": "Python 3",
   "language": "python",
   "name": "python3"
  },
  "language_info": {
   "codemirror_mode": {
    "name": "ipython",
    "version": 3
   },
   "file_extension": ".py",
   "mimetype": "text/x-python",
   "name": "python",
   "nbconvert_exporter": "python",
   "pygments_lexer": "ipython3",
   "version": "3.6.10"
  }
 },
 "nbformat": 4,
 "nbformat_minor": 4
}
