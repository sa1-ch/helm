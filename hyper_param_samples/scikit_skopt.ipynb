{
 "cells": [
  {
   "cell_type": "code",
   "execution_count": 1,
   "metadata": {},
   "outputs": [],
   "source": [
    "import numpy as np\n",
    "from sklearn.ensemble import GradientBoostingRegressor\n",
    "from sklearn.model_selection import cross_val_score\n",
    "from skopt import gp_minimize\n",
    "from skopt.plots import plot_convergence\n",
    "from skopt.space import Integer, Real\n",
    "from skopt.utils import use_named_args\n",
    "\n",
    "from data_and_regressor import get_data"
   ]
  },
  {
   "cell_type": "code",
   "execution_count": 2,
   "metadata": {},
   "outputs": [
    {
     "name": "stdout",
     "output_type": "stream",
     "text": [
      "Best parameters:\n",
      "- max_depth=4\n",
      "- learning_rate=0.100376\n",
      "- max_features=13\n",
      "- min_samples_split=100\n",
      "- min_samples_leaf=1\n"
     ]
    },
    {
     "data": {
      "text/plain": [
       "<matplotlib.axes._subplots.AxesSubplot at 0x7fd04f75c518>"
      ]
     },
     "execution_count": 2,
     "metadata": {},
     "output_type": "execute_result"
    },
    {
     "data": {
      "image/png": "[encoded data removed]",
      "text/plain": [
       "<Figure size 432x288 with 1 Axes>"
      ]
     },
     "metadata": {
      "needs_background": "light"
     },
     "output_type": "display_data"
    }
   ],
   "source": [
    "X, y, n_features = get_data()\n",
    "# The list of hyper-parameters we want to optimize. For each one we define the\n",
    "# bounds, the corresponding scikit-learn parameter name, as well as how to\n",
    "# sample values from that dimension (`'log-uniform'` for the learning rate)\n",
    "space = [\n",
    "    Integer(1, 5, name=\"max_depth\"),\n",
    "    Real(10 ** -5, 10 ** 0, \"log-uniform\", name=\"learning_rate\"),\n",
    "    Integer(1, n_features, name=\"max_features\"),\n",
    "    Integer(2, 100, name=\"min_samples_split\"),\n",
    "    Integer(1, 100, name=\"min_samples_leaf\"),\n",
    "]\n",
    "\n",
    "# this decorator allows your objective function to receive a the parameters as\n",
    "# keyword arguments. This is particularly convenient when you want to set\n",
    "# scikit-learn estimator parameters\n",
    "@use_named_args(space)\n",
    "def objective(**params):\n",
    "    reg = GradientBoostingRegressor(n_estimators=50, random_state=0)\n",
    "    reg.set_params(**params)\n",
    "\n",
    "    return -np.mean(\n",
    "        cross_val_score(reg, X, y, cv=5, n_jobs=-1, scoring=\"neg_mean_absolute_error\")\n",
    "    )\n",
    "\n",
    "\n",
    "res_gp = gp_minimize(objective, space, n_calls=100, random_state=0)\n",
    "\n",
    "\n",
    "print(\n",
    "    \"\"\"Best parameters:\n",
    "- max_depth=%d\n",
    "- learning_rate=%.6f\n",
    "- max_features=%d\n",
    "- min_samples_split=%d\n",
    "- min_samples_leaf=%d\"\"\"\n",
    "    % (res_gp.x[0], res_gp.x[1], res_gp.x[2], res_gp.x[3], res_gp.x[4])\n",
    ")\n",
    "\n",
    "\n",
    "plot_convergence(res_gp)"
   ]
  },
  {
   "cell_type": "code",
   "execution_count": null,
   "metadata": {},
   "outputs": [],
   "source": []
  }
 ],
 "metadata": {
  "kernelspec": {
   "display_name": "Python 3",
   "language": "python",
   "name": "python3"
  },
  "language_info": {
   "codemirror_mode": {
    "name": "ipython",
    "version": 3
   },
   "file_extension": ".py",
   "mimetype": "text/x-python",
   "name": "python",
   "nbconvert_exporter": "python",
   "pygments_lexer": "ipython3",
   "version": "3.6.10"
  }
 },
 "nbformat": 4,
 "nbformat_minor": 4
}
